{
 "cells": [
  {
   "cell_type": "markdown",
   "id": "0ee57625-c6f6-4ab9-8c7f-3e2593bede52",
   "metadata": {},
   "source": [
    "## Conversão para Tipos\n",
    "\n",
    "O processo de conversão do valor de um tipo de dados (inteiro, string, float, etc.) em outro tipo de dados é chamado de conversão de tipo. Python tem dois tipos de conversão de tipo.\n",
    "\n",
    "Conversão de tipo implícita\n",
    "Conversão de tipo explícito"
   ]
  },
  {
   "cell_type": "code",
   "execution_count": 1,
   "id": "a11eee4f-9a24-4913-b4d3-c1e5b3a1e17c",
   "metadata": {},
   "outputs": [
    {
     "name": "stdout",
     "output_type": "stream",
     "text": [
      "var_1 <class 'int'>\n",
      "var_2 <class 'float'>\n",
      "resultado da soma <class 'float'>\n"
     ]
    }
   ],
   "source": [
    "var_1 = 10\n",
    "var_2 = 3.3\n",
    "\n",
    "print('var_1', type(var_1))\n",
    "print('var_2', type(var_2))\n",
    "\n",
    "print('resultado da soma', type(var_1 + var_2))"
   ]
  },
  {
   "cell_type": "markdown",
   "id": "c4e895aa-0e07-47c9-b524-47dd9d08339c",
   "metadata": {},
   "source": [
    "A **Conversão explícita** consiste em alterar o tipo a partir do uso de uma função do python."
   ]
  },
  {
   "cell_type": "code",
   "execution_count": 2,
   "id": "ea8e49f8-9304-4179-a2d3-bc762c0b3cec",
   "metadata": {},
   "outputs": [
    {
     "name": "stdout",
     "output_type": "stream",
     "text": [
      "1.11\n",
      "-5\n"
     ]
    },
    {
     "data": {
      "text/plain": [
       "'-5'"
      ]
     },
     "execution_count": 2,
     "metadata": {},
     "output_type": "execute_result"
    }
   ],
   "source": [
    "var_1 = '1.110'\n",
    "var_2 = '-5'\n",
    "\n",
    "print(float(var_1))\n",
    "print(int(var_2))\n",
    "var_2_str = str(int(var_2))\n",
    "var_2_str"
   ]
  },
  {
   "cell_type": "markdown",
   "id": "32b35f9b-f456-4887-840a-f48f3583b57b",
   "metadata": {},
   "source": [
    "A função **int(value, base)** permita que um número seja convertido para uma outra base."
   ]
  },
  {
   "cell_type": "code",
   "execution_count": 3,
   "id": "792bfe97-bbe2-4e45-9a46-205e0162a98a",
   "metadata": {},
   "outputs": [
    {
     "name": "stdout",
     "output_type": "stream",
     "text": [
      "Resultado para a conversão da base 2 para a base 10: 18\n",
      "Valor de s após converter para float : 10010.0\n",
      "Valor convertido de hexadecimal para decimal :  40765\n"
     ]
    }
   ],
   "source": [
    "s = \"10010\"\n",
    " \n",
    "c = int(s,2)\n",
    "print (\"Resultado para a conversão da base 2 para a base 10: \", end=\"\")\n",
    "print (c)\n",
    " \n",
    "e = float(s)\n",
    "print (\"Valor de s após converter para float : \", end=\"\")\n",
    "print (e)\n",
    "\n",
    "hexa_str_value = '9F3D'\n",
    "print(\"Valor convertido de hexadecimal para decimal : \", int(hexa_str_value,16))"
   ]
  },
  {
   "cell_type": "markdown",
   "id": "7bdc474f-712d-43b5-96e6-ef97d59e42bc",
   "metadata": {},
   "source": [
    "ord (): Esta função é usada para converter um caractere em um inteiro.\\\n",
    "hex (): Esta função converte um número inteiro em uma string hexadecimal.\\\n",
    "oct (): Esta função converte um inteiro em uma string octal."
   ]
  },
  {
   "cell_type": "code",
   "execution_count": 4,
   "id": "88f8b6a3-9415-437a-b6df-067336142d55",
   "metadata": {},
   "outputs": [
    {
     "name": "stdout",
     "output_type": "stream",
     "text": [
      "Valor inteiro referente ao character 4 é 52.\n",
      "Valor inteiro 56 convertido para string hexadecimal é 0x38\n",
      "Valor inteiro 56 convertido para string octal é 0o70\n"
     ]
    }
   ],
   "source": [
    "s = '4'\n",
    " \n",
    "c_ord = ord(s)\n",
    "print(f\"Valor inteiro referente ao character {s} é {c_ord}.\")\n",
    " \n",
    "c_hex = 56\n",
    "print (f\"Valor inteiro {c_hex} convertido para string hexadecimal é {hex(c_hex)}\")\n",
    "\n",
    "c_oct = 56\n",
    "print (f\"Valor inteiro {c_oct} convertido para string octal é {oct(c_hex)}\")\n"
   ]
  },
  {
   "cell_type": "markdown",
   "id": "7e3d6769-d131-4066-9820-f45e11590cf5",
   "metadata": {
    "tags": []
   },
   "source": [
    "## Comando de seleção:\n",
    "\n",
    "Os **comandos de seleção** são fundamentais na implementação de rotinas que permitem uma adaptação da lógica a ser executada de acordo com uma condição.\n",
    "  <figure style=\"text-align: center;\">\n",
    "      <img type=\"image/png\" src=\"https://www.ime.usp.br/~leo/mac2166/2017-1/img/pt_fluxo_se.png\" width=\"20%\" alt=\"fluxo unário\"/>\n",
    "      <img type=\"image/png\" src=\"https://www.ime.usp.br/~leo/mac2166/2017-1/img/pt_fluxo_se_senao.png\" width=\"20%\" alt=\"fluxo binário\"/>\n",
    "      <figcaption>Diagrama de fluxo de execução unário (a esquerda) e binário (a direita)</figcaption>\n",
    "  </figure>\n"
   ]
  },
  {
   "cell_type": "markdown",
   "id": "084d93fb-ae02-428e-be0d-9efab0dcbbf9",
   "metadata": {},
   "source": [
    "### Exemplo 1\n",
    "\n",
    "Faça um código que calcula a raiz quadrada de um número, caso seja inserido um número negativo deverá imprimir uma mensagem pedindo um número válido."
   ]
  },
  {
   "cell_type": "code",
   "execution_count": 5,
   "id": "aa9a7aa5-4c49-4417-b1ff-a4b5cc2602e2",
   "metadata": {},
   "outputs": [
    {
     "name": "stdin",
     "output_type": "stream",
     "text": [
      "Digite um número 10\n"
     ]
    },
    {
     "name": "stdout",
     "output_type": "stream",
     "text": [
      "3.1622776601683795\n"
     ]
    }
   ],
   "source": [
    "n = float(input(\"Digite um número\"))\n",
    "if n < 0:\n",
    "    print(\"o valor é negativo por favor digite um número postivo.\")\n",
    "else:\n",
    "    print(n**(1/2))"
   ]
  },
  {
   "cell_type": "markdown",
   "id": "da728774-1333-415e-b8e0-0ba25f8f66ef",
   "metadata": {},
   "source": [
    "### Exercício 1\n",
    "\n",
    "Faça um código que o usuário insere a idade de uma pessoa e imprime na tela se a pessoa é pode dirigir ou não."
   ]
  },
  {
   "cell_type": "code",
   "execution_count": 6,
   "id": "57e93055-25cf-4c7f-ae36-3c876a2b1664",
   "metadata": {},
   "outputs": [
    {
     "name": "stdin",
     "output_type": "stream",
     "text": [
      "Digite a idade 10\n"
     ]
    },
    {
     "name": "stdout",
     "output_type": "stream",
     "text": [
      "menor de idade\n"
     ]
    }
   ],
   "source": [
    "# CODE\n",
    "\n",
    "idade = float(input(\"Digite a idade\"))\n",
    "mensagem = \"menor de idade\"\n",
    "\n",
    "if idade >= 18:\n",
    "    mensagem = \"maior de idade\"\n",
    "\n",
    "print(mensagem)"
   ]
  },
  {
   "cell_type": "markdown",
   "id": "b7a6a15f-f23f-4f42-90bf-b794ae8c7026",
   "metadata": {},
   "source": [
    "### Exercício 2\n",
    "\n",
    "Sabendo que um triângulo deve ter um dos lados maior ou igual que a soma dos outros lados, faça um script python que recebe três números que representam as medidas dos lados de um possível triângulo e imprime na tela se é um triângulo válido.\n"
   ]
  },
  {
   "cell_type": "code",
   "execution_count": 7,
   "id": "a05f37f3-65e3-4719-bbf4-41a324c54c38",
   "metadata": {},
   "outputs": [
    {
     "name": "stdin",
     "output_type": "stream",
     "text": [
      "Digite os valores das medidas dos lados do triângulo no formato: a,b,c 3,4,5\n"
     ]
    },
    {
     "name": "stdout",
     "output_type": "stream",
     "text": [
      "É triângulo\n"
     ]
    }
   ],
   "source": [
    "# a = float(input(\"digite a medida de um lado (a).\"))\n",
    "# b = float(input(\"digite a medida de um lado (b).\"))\n",
    "# c = float(input(\"digite a medida de um lado (c).\"))\n",
    "\n",
    "# if (a+b>=c or b+c>=a or c+a>=b) and (a>0 and b>0 and c>0):\n",
    "#     print(\"É triângulo\")\n",
    "# else:\n",
    "#     print(\"Não é triângulo\")\n",
    "    \n",
    "    \n",
    "a, b, c = input(\"Digite os valores das medidas dos lados do triângulo no formato: a,b,c\").split(',')\n",
    "a, b, c = float(a), float(b), float(c)\n",
    "\n",
    "mensagem = \"Não é triângulo\"\n",
    "\n",
    "if (a+b>=c or b+c>=a or c+a>=b) and (a>0 and b>0 and c>0):\n",
    "    mensagem = \"É triângulo\"\n",
    "\n",
    "print(mensagem)"
   ]
  },
  {
   "cell_type": "markdown",
   "id": "f3411bcf-0416-4d2a-a4c2-4a126334156b",
   "metadata": {},
   "source": [
    "## Condicionais Alinhados\n",
    "\n",
    "Um condicional pode também ser aninhado dentro de outro. Para exemplificar vamos fazer um código que recebe dois valores (x e y) e verifica quem é o maior e menor e se são iguais."
   ]
  },
  {
   "cell_type": "code",
   "execution_count": 8,
   "id": "cfc15577-5f0a-4675-8634-0f5b2287c591",
   "metadata": {},
   "outputs": [
    {
     "name": "stdin",
     "output_type": "stream",
     "text": [
      "Digite o valor de x 4\n",
      "Digite o valor de y 4\n"
     ]
    },
    {
     "name": "stdout",
     "output_type": "stream",
     "text": [
      "x e y devem ser iguais.\n"
     ]
    }
   ],
   "source": [
    "x = float(input(\"Digite o valor de x\"))\n",
    "y = float(input(\"Digite o valor de y\"))\n",
    "\n",
    "if x < y:\n",
    "    print(\"x e' menor do que y.\")\n",
    "else:\n",
    "    if x > y:\n",
    "        print(\"x e' maior do que y.\")\n",
    "    else:\n",
    "        print(\"x e y devem ser iguais.\")"
   ]
  },
  {
   "cell_type": "markdown",
   "id": "5cbf7330-c5b0-474d-ae76-3cb66618b06f",
   "metadata": {},
   "source": [
    "O python oferece um recurso para condicinais alinhados chamado *elif*. "
   ]
  },
  {
   "cell_type": "code",
   "execution_count": 9,
   "id": "db247516-f30e-4eb5-a421-e8a3b69c42de",
   "metadata": {},
   "outputs": [
    {
     "name": "stdin",
     "output_type": "stream",
     "text": [
      "Digite o valor de x 4\n",
      "Digite o valor de y 4\n"
     ]
    },
    {
     "name": "stdout",
     "output_type": "stream",
     "text": [
      "x e y devem ser iguais.\n"
     ]
    }
   ],
   "source": [
    "x = float(input(\"Digite o valor de x\"))\n",
    "y = float(input(\"Digite o valor de y\"))\n",
    "\n",
    "if x < y:\n",
    "    print(\"x e' menor do que y.\")\n",
    "\n",
    "elif x > y:\n",
    "    print(\"x e' maior do que y.\")\n",
    "\n",
    "else:\n",
    "    print(\"x e y devem ser iguais.\")"
   ]
  },
  {
   "cell_type": "markdown",
   "id": "cb575d87-b474-4b31-a417-8da8aeebc43b",
   "metadata": {},
   "source": [
    "### DESAFIO 1\n",
    " \n",
    "Faça um script python que recebe uma URL \"https://site.com.br?id=1930&nome=fulano\" e ele valida os valores dos campos passados por parâmetros (**id** e **nome**) esses campos devem ser inteiros e string respectivamente. Caso sejam válidos o script deve imprimir \"campos válidos\" senão deve imprimir na tela qual o campo não é válido no formato \"campo "
   ]
  },
  {
   "cell_type": "code",
   "execution_count": 10,
   "id": "8d7c391b-8f1a-4172-834b-8ad96f1b2e1a",
   "metadata": {},
   "outputs": [
    {
     "name": "stdout",
     "output_type": "stream",
     "text": [
      "campos válidos\n"
     ]
    }
   ],
   "source": [
    "url = \"https://site.com.br?id=123&nome=fulano\"\n",
    "\n",
    "id = url[url.index('id=') + len('id='):url.index('&')]\n",
    "nome = url[url.index('nome=') + len('nome='):]\n",
    "\n",
    "message = \"campos válidos\"\n",
    "if not id.isdecimal() and not nome.isalpha():\n",
    "    message = \"Campos id e nome não são válidos.\"\n",
    "\n",
    "elif not id.isdecimal():\n",
    "    message = \"Campo id não é válido\"\n",
    "\n",
    "elif not nome.isalpha():\n",
    "    message = \"Campo nome não é válido\"\n",
    "\n",
    "print(message)"
   ]
  },
  {
   "cell_type": "markdown",
   "id": "f454a672-0a64-48c1-947e-379afa9ef3c5",
   "metadata": {},
   "source": [
    "### Desafio 1.2\n",
    "\n",
    "Modifique o código anterior para verificar se o nome está com a primeira letra maiúscula, caso não esteja deverá imprimir um erro \"Campo nome inválido\"."
   ]
  },
  {
   "cell_type": "code",
   "execution_count": 11,
   "id": "3151c465-fe2e-4948-95bb-7fc106679971",
   "metadata": {},
   "outputs": [
    {
     "name": "stdout",
     "output_type": "stream",
     "text": [
      "campos válidos\n"
     ]
    }
   ],
   "source": [
    "url = \"https://site.com.br?id=123&nome=Fulano\"\n",
    "\n",
    "id = url[url.index('id=') + len('id='):url.index('&')]\n",
    "nome = url[url.index('nome=') + len('nome='):]\n",
    "\n",
    "message = \"campos válidos\"\n",
    "if not id.isdecimal() and not nome.isalpha():\n",
    "    message = \"Campos id e nome não são válidos.\"\n",
    "\n",
    "elif not id.isdecimal():\n",
    "    message = \"Campo id não é válido\"\n",
    "\n",
    "elif not nome.isalpha() or not nome.istitle():\n",
    "    message = \"Campo nome não é válido\"\n",
    "\n",
    "print(message)"
   ]
  },
  {
   "cell_type": "markdown",
   "id": "f09f1033-e4e2-4b06-be33-1d75038efab6",
   "metadata": {
    "tags": []
   },
   "source": [
    "## Condicional *inline*\n",
    "\n",
    "Um recurso comum em algumas linguagens é o \"if inline\" que geralmente é um formato:\n",
    "\n",
    "*valor_se_verdade* **if** *condicional* **else** *valor_se_falso*\n",
    "\n",
    "**Ponto positivo:**\n",
    "Para filtros mais simples e para atribuição de variáveis ele funciona muito bem\n",
    "\n",
    "**Ponto negativo:**\n",
    "Para filtros complexos compromete a legibilidade do código."
   ]
  },
  {
   "cell_type": "markdown",
   "id": "fb3d523d-d78b-494e-8077-5ef7e36daaa4",
   "metadata": {},
   "source": [
    "## Exemplo 2\n",
    "\n",
    "Faça um *script* python que afirma se o nome é próprio ou não."
   ]
  },
  {
   "cell_type": "code",
   "execution_count": 12,
   "id": "d3685dc7-2e5b-4f9d-83a8-aa2aa05dfc29",
   "metadata": {},
   "outputs": [
    {
     "name": "stdin",
     "output_type": "stream",
     "text": [
      "Digite um substantivo eu\n"
     ]
    },
    {
     "name": "stdout",
     "output_type": "stream",
     "text": [
      "A palavra eu é um substantivo Comum\n"
     ]
    }
   ],
   "source": [
    "nome = input(\"Digite um substantivo\")\n",
    "\n",
    "status_nome = \"Próprio\" if nome.istitle() else \"Comum\"\n",
    "print(f\"A palavra {nome} é um substantivo {status_nome}\")"
   ]
  },
  {
   "cell_type": "markdown",
   "id": "f47f161c-7bb0-448c-aead-ed1bf5b16ee1",
   "metadata": {},
   "source": [
    "Suponhamos que agora seja necessários no mesmo if inline se o valor digitado seja necessariamente uma string sem números."
   ]
  },
  {
   "cell_type": "code",
   "execution_count": 13,
   "id": "5cb59af6-32ec-4142-9412-532697108e5f",
   "metadata": {},
   "outputs": [
    {
     "name": "stdin",
     "output_type": "stream",
     "text": [
      "Digite um substantivo tu\n"
     ]
    },
    {
     "name": "stdout",
     "output_type": "stream",
     "text": [
      "A palavra tu é um substantivo Comum\n"
     ]
    }
   ],
   "source": [
    "nome = input(\"Digite um substantivo\")\n",
    "\n",
    "status_nome = None if not nome.isalpha() else (\"Próprio\" if nome.istitle() else \"Comum\")\n",
    "if status_nome:\n",
    "    print(f\"A palavra {nome} é um substantivo {status_nome}\")\n",
    "\n",
    "else: \n",
    "    print(\"Não é um valor válido\")"
   ]
  },
  {
   "cell_type": "markdown",
   "id": "48a5eee9-087a-405b-b53d-4ab75a4a505d",
   "metadata": {},
   "source": [
    "Um outras maneira de fazer um condicional em python (uma maneira não muito famosa) é usando a forma:\n",
    "result = (*valor_fora_da_condição*, *valor_dentro_da_condição*)[condição]\n"
   ]
  },
  {
   "cell_type": "code",
   "execution_count": 14,
   "id": "790e7abb-933a-41b1-bfb8-1174a4ea046d",
   "metadata": {},
   "outputs": [
    {
     "name": "stdin",
     "output_type": "stream",
     "text": [
      "Digite um substantivo nos\n"
     ]
    },
    {
     "name": "stdout",
     "output_type": "stream",
     "text": [
      "A palavra nos é um substantivo Comum\n"
     ]
    }
   ],
   "source": [
    "nome = input(\"Digite um substantivo\")\n",
    "\n",
    "status_nome = (\"Comum\",\"Próprio\")[nome.istitle()]\n",
    "print(f\"A palavra {nome} é um substantivo {status_nome}\")"
   ]
  },
  {
   "cell_type": "code",
   "execution_count": 15,
   "id": "b66d907f-3a11-4acb-81dc-63bde32a2365",
   "metadata": {},
   "outputs": [
    {
     "name": "stdin",
     "output_type": "stream",
     "text": [
      "Digite um substantivo eles\n"
     ]
    },
    {
     "name": "stdout",
     "output_type": "stream",
     "text": [
      "A palavra eles é um substantivo Comum\n"
     ]
    }
   ],
   "source": [
    "nome = input(\"Digite um substantivo\")\n",
    "\n",
    "status_nome = (None,\n",
    "               (\"Comum\",\"Próprio\")[nome.istitle()])[nome.isalpha()]\n",
    "if status_nome:\n",
    "    print(f\"A palavra {nome} é um substantivo {status_nome}\")\n",
    "\n",
    "else: \n",
    "    print(\"Não é um valor válido\")"
   ]
  },
  {
   "cell_type": "markdown",
   "id": "1cbdee5e-e0d2-4417-86d0-c01b8da347ce",
   "metadata": {},
   "source": [
    "## Finalizando\n",
    "\n",
    "1 - Quais as condições de uso de um condicional \\ \n",
    "2 - A diferença entre um condicional binário e unário \\\n",
    "3 - O uso do *elif* \\\n",
    "4 - O uso do *inline* ou usando tuplas"
   ]
  },
  {
   "cell_type": "markdown",
   "id": "8415dd2a-1c9b-4ec5-a029-c96441bc09b5",
   "metadata": {},
   "source": [
    "# Introdução Listas\n",
    "\n",
    "1 - Uma lista é uma coleção de elementos em uma ordem em particular.\\\n",
    "2 - Uma lista pode incluir as caracteres, strings, números, objetos complexos e até outra lista.\\\n",
    "3 - Em Python, colchetes ( [ ] ) indicam uma lista. Podemos também criar a partir da chamada a função *list()*.\n",
    "\n",
    "\n",
    "Como uma lista geralmente contém mais de um elemento, é uma boa ideia deixar seu nome no plural, por exemplo, *letters* , *digits* ou *names* ."
   ]
  },
  {
   "cell_type": "code",
   "execution_count": 16,
   "id": "efa66ebe-891f-4509-8d80-de93437de10c",
   "metadata": {},
   "outputs": [
    {
     "name": "stdout",
     "output_type": "stream",
     "text": [
      "['honda', 'yamaha', 'suzuki', 'kawasaki']\n"
     ]
    }
   ],
   "source": [
    "#Exemplos de listas\n",
    "list_numbers = [1,2,3,4,5,10,-1]\n",
    "list_chars = ['a','b','c','d']\n",
    "list_motos = ['honda', 'yamaha', 'suzuki', 'kawasaki']\n",
    "\n",
    "print(list_motos)"
   ]
  },
  {
   "cell_type": "markdown",
   "id": "9d4318ef-99d9-47ed-9d16-670953bd6a88",
   "metadata": {},
   "source": [
    "Podemos acessar os valores em uma lista a partir do índice do elemento."
   ]
  },
  {
   "cell_type": "code",
   "execution_count": 17,
   "id": "c204b836-106d-4d74-a2db-8aab9f4e3c80",
   "metadata": {},
   "outputs": [
    {
     "name": "stdout",
     "output_type": "stream",
     "text": [
      "Primeiro elemento:  honda\n",
      "Segundo elemento:  yamaha\n",
      "Ultimo elemento:  kawasaki\n",
      "Penúltimo elemento:  suzuki\n"
     ]
    }
   ],
   "source": [
    "print(\"Primeiro elemento: \", list_motos[0])\n",
    "print(\"Segundo elemento: \", list_motos[1])\n",
    "\n",
    "print(\"Ultimo elemento: \", list_motos[-1])\n",
    "print(\"Penúltimo elemento: \", list_motos[-2])"
   ]
  },
  {
   "cell_type": "markdown",
   "id": "cc53422c-40e4-4222-b957-a80539e8f2e0",
   "metadata": {},
   "source": [
    "Para adicionar um elemento pode ser utilizado o método *insert(indice, valor)*, *append(valor)* ou o operador de atribuição *+=*. O insert permite dizer especificamente aonde irá inserir o valor, já o append e o operador de atribuição irá inserir somente no final da fila."
   ]
  },
  {
   "cell_type": "code",
   "execution_count": 18,
   "id": "f09c3655-ae6f-413c-a6ac-b1c14720efc0",
   "metadata": {},
   "outputs": [
    {
     "name": "stdout",
     "output_type": "stream",
     "text": [
      "['ducati', 'honda', 'yamaha', 'suzuki', 'kawasaki']\n",
      "['ducati', 'honda', 'yamaha', 'suzuki', 'kawasaki', 'harley']\n",
      "['ducati', 'honda', 'yamaha', 'suzuki', 'kawasaki', 'harley', 'ducati']\n"
     ]
    }
   ],
   "source": [
    "list_motos.insert(0, 'ducati')\n",
    "print(list_motos)\n",
    "\n",
    "list_motos.append('harley')\n",
    "print(list_motos)\n",
    "\n",
    "list_motos+=['ducati']\n",
    "print(list_motos)"
   ]
  },
  {
   "cell_type": "markdown",
   "id": "b186ebf8-d73b-42ca-80b0-31f55efd934c",
   "metadata": {},
   "source": [
    "Para remover um elemento podemos usar o método *remove(value)*, *pop(index)* ou a função *del*."
   ]
  },
  {
   "cell_type": "code",
   "execution_count": 20,
   "id": "33f99446-c9b9-40ca-aa1b-6bb743cbabba",
   "metadata": {},
   "outputs": [
    {
     "name": "stdout",
     "output_type": "stream",
     "text": [
      "['yamaha', 'suzuki', 'harley', 'ducati']\n",
      "ducati\n",
      "['yamaha', 'suzuki', 'harley']\n",
      "['yamaha', 'harley']\n"
     ]
    }
   ],
   "source": [
    "del list_motos[0]\n",
    "print(list_motos)\n",
    "\n",
    "element_poped = list_motos.pop(3)\n",
    "print(element_poped)\n",
    "print(list_motos)\n",
    "\n",
    "list_motos.remove('suzuki')\n",
    "print(list_motos)\n"
   ]
  },
  {
   "cell_type": "markdown",
   "id": "d37020a2-f1da-4a03-bd1e-61c033431ba9",
   "metadata": {},
   "source": [
    "Ordernar uma lista pode ser feito pelo método *sorted(list)* ou pelo método *sort()* implementado no próprio objeto *list*."
   ]
  },
  {
   "cell_type": "code",
   "execution_count": 21,
   "id": "72573170-15f8-443d-90d4-b3373fdb3be2",
   "metadata": {},
   "outputs": [
    {
     "name": "stdout",
     "output_type": "stream",
     "text": [
      "harley, yamaha\n",
      "yamaha, harley\n"
     ]
    }
   ],
   "source": [
    "list_motos_sorted = sorted(list_motos,reverse=False)\n",
    "list_motos_sorted_reversed = sorted(list_motos,reverse=True)\n",
    "\n",
    "print(', '.join(list_motos_sorted))\n",
    "print(', '.join(list_motos_sorted_reversed))"
   ]
  },
  {
   "cell_type": "markdown",
   "id": "d56d7578-6793-4031-afb2-f8bc95fd073c",
   "metadata": {},
   "source": [
    "Algumas funções podem ser usadads quando uma lista e **só de valores numéricos**: min(), max(), sum()"
   ]
  },
  {
   "cell_type": "markdown",
   "id": "6c99d152-590c-4047-a11d-c5ca11d27b64",
   "metadata": {},
   "source": [
    "## Exercício\n",
    "\n",
    "Faça um script python que dada uma lista de número calcule:\n",
    "1 - a média de todos os valores\n",
    "2 - a distância do maior para o menor valor\n",
    "3 - a distância da média para o menor valor\n",
    "4 - a distância da média para o maior valor\n",
    "\n",
    "OBS.: len(lista): retorna o tamanho da lista\n",
    "      abs(valor): retorna o valor absoluto de um número."
   ]
  },
  {
   "cell_type": "code",
   "execution_count": 26,
   "id": "07f7072d-9c76-4aa1-89c6-c2d0d60a4808",
   "metadata": {},
   "outputs": [],
   "source": [
    "list_numbers = [3, 2, 4, 57, 4, 4]\n",
    "\n",
    "avg_list_numbers = sum(list_numbers)/len(list_numbers)\n",
    "max_list_numbers = max(list_numbers)\n",
    "min_list_numbers = min(list_numbers)\n"
   ]
  },
  {
   "cell_type": "markdown",
   "id": "5e3c00de-c4f0-46d6-b9bd-61f1f5019b70",
   "metadata": {},
   "source": [
    "# Finalizando\n",
    "\n",
    "1 - Entender o conceito de uma lista bem como sua função. \\\n",
    "2 - Entender as principais funções de uma lista \\\n",
    "3 - Usar as principais funções de uma lista. "
   ]
  },
  {
   "cell_type": "code",
   "execution_count": null,
   "id": "de29df4f-c14f-4cab-b9b3-bb7a1c77d170",
   "metadata": {},
   "outputs": [],
   "source": []
  }
 ],
 "metadata": {
  "kernelspec": {
   "display_name": "Python 3 (ipykernel)",
   "language": "python",
   "name": "python3"
  },
  "language_info": {
   "codemirror_mode": {
    "name": "ipython",
    "version": 3
   },
   "file_extension": ".py",
   "mimetype": "text/x-python",
   "name": "python",
   "nbconvert_exporter": "python",
   "pygments_lexer": "ipython3",
   "version": "3.8.10"
  }
 },
 "nbformat": 4,
 "nbformat_minor": 5
}
