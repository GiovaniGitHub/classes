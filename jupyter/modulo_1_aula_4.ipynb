{
 "cells": [
  {
   "cell_type": "markdown",
   "id": "fddd2539-c193-4fad-825f-cdbc868f74cf",
   "metadata": {},
   "source": [
    "## Continuação de Listas"
   ]
  },
  {
   "cell_type": "markdown",
   "id": "bcb21f2c-6094-4e96-a713-ce5ece5a435b",
   "metadata": {},
   "source": [
    "Algumas funções podem ser usadads quando uma lista e **só de valores numéricos**: min(), max(), sum()"
   ]
  },
  {
   "cell_type": "markdown",
   "id": "c4430141-ec27-4b84-b398-2d5cb91d3ba6",
   "metadata": {},
   "source": [
    "## Exercício 02\n",
    "\n",
    "Faça um script python que dada uma lista de número calcule: \\\n",
    "1 - a média de todos os valores \\\n",
    "2 - a distância do maior para o menor valor \\\n",
    "3 - a distância da média para o menor valor \\\n",
    "4 - a distância da média para o maior valor \n",
    "\n",
    "OBS.: len(lista): retorna o tamanho da lista\n",
    "      abs(valor): retorna o valor absoluto de um número."
   ]
  },
  {
   "cell_type": "code",
   "execution_count": null,
   "id": "0d4c7b7b-6229-408a-b31e-b87f5c70f88a",
   "metadata": {},
   "outputs": [],
   "source": [
    "list_numbers = [3,2,4,57,4,4]\n",
    "\n",
    "avg_list_numbers = sum(list_numbers)/len(list_numbers)\n",
    "max_list_numbers = max(list_numbers)\n",
    "min_list_numbers = min(list_numbers)\n"
   ]
  },
  {
   "cell_type": "markdown",
   "id": "488caa5f-fdde-4fea-a7ac-9347f96a2f61",
   "metadata": {},
   "source": [
    "| Função | Parâmetros | Descrição |\n",
    "| --- | --- | --- |\n",
    "| append | valor | Acrescenta um novo item no final da lista |\n",
    "| insert | índice, valor | Insere um novo item na posição dada|\n",
    "| reverse | nenhum | Ordena a lista em ordem reversa|\n",
    "| index | item | Retorna a posição da primeira ocorrência do item|\n",
    "| count | item |Retorna o número de ocorrências do item|\n",
    "| remove | item | Remove a primeira ocorrência do item|"
   ]
  },
  {
   "cell_type": "markdown",
   "id": "3f384f61-437b-4c22-ac12-fa492596a3cc",
   "metadata": {},
   "source": [
    "## Finalizando\n",
    "\n",
    "1 - Entender o conceito de uma lista bem como sua função. \\\n",
    "2 - Entender as principais funções de uma lista \\\n",
    "3 - Usar as principais funções de uma lista. "
   ]
  },
  {
   "cell_type": "markdown",
   "id": "0e7eaee8-3663-47c3-8b48-e51b0654dfee",
   "metadata": {},
   "source": [
    "## Loop For\n",
    "\n",
    "É possível percorrer uma lista iterando através de itens ou iterando através de índices."
   ]
  },
  {
   "cell_type": "code",
   "execution_count": null,
   "id": "bc31ab0d-998e-4c74-b38b-5dec20258b99",
   "metadata": {},
   "outputs": [],
   "source": [
    "frutas = [\"pera\", \"laranja\", \"banana\", \"cereja\"]\n",
    "\n",
    "str_loop_items = \"\"\n",
    "for uma_fruta in frutas:\n",
    "    print(uma_fruta)\n",
    "\n",
    "print('================================')\n",
    "for indice in range(len(frutas)):\n",
    "    print(frutas[indice])"
   ]
  },
  {
   "cell_type": "markdown",
   "id": "d84c80b4-380c-4063-8c84-1e5c78930762",
   "metadata": {},
   "source": [
    "### Exercício 03\n",
    "\n",
    " Faça um script python que recebe uma lista do usuário (usando a função input) e armazena em uma lista e calcula o quadrado dos números."
   ]
  },
  {
   "cell_type": "code",
   "execution_count": null,
   "id": "edf971a9-13ab-400b-9442-341a419787a7",
   "metadata": {},
   "outputs": [],
   "source": [
    "list_input_strs = input(\"Insira a lista de números separados por vírgulas:\").split(',')\n",
    "list_values = []\n",
    "\n",
    "#loop for por elementos\n",
    "for value in list_input_strs:\n",
    "    value_square = int(value)**2\n",
    "    list_values.append(str(value_square))\n",
    "\n",
    "#loop for por índice:\n",
    "for i in range(len(list_input_strs)):\n",
    "    value_square = int(list_input_strs[i])**2\n",
    "    list_values.append(str(value_square))\n",
    "\n",
    "print(\",\".join(list_values))"
   ]
  },
  {
   "cell_type": "markdown",
   "id": "aa70347b-c786-4aea-94fd-ed4ff14335eb",
   "metadata": {},
   "source": [
    "## List comprehensions\n",
    "\n",
    "No python existe uma maneira de trabalhar com lista e loop for. Basicamente é a execução do loop for que obedece a seguinte sintexe: \n",
    "\n",
    "[<expressão> for <item> in <sequência>]\n",
    "    \n",
    "[<expressão> for <item> in <sequência> if <condição> ]\n",
    "    \n",
    "[<expressão> if <condição> else <expressão> for <item> in <sequência>] \n"
   ]
  },
  {
   "cell_type": "markdown",
   "id": "c0d73ac9-8063-439a-908f-368f6eb29269",
   "metadata": {},
   "source": [
    "## Exercício 04\n",
    "\n",
    "Converta o Exercício 03 para *list_comprehention*. E fazer uma outra versão que calcula o quadrado somente para os valores ímpares."
   ]
  },
  {
   "cell_type": "markdown",
   "id": "491d70cb-3901-48c4-88a9-01d217921232",
   "metadata": {},
   "source": [
    "## Exercício 05\n",
    "\n",
    "Desenvolva um script python que recebe um número não nulo, positivo e inteiro, e soma todos os valores ímpares menores ou igual que o respectivo número.\n",
    "Exemplo: número digitado 11\n",
    "resultado: 1+3+5+7+9+11 = 36\n",
    "\n",
    "Exemplo: número digitado 10\n",
    "resultado: 1+3+5+7+9 = 25"
   ]
  },
  {
   "cell_type": "code",
   "execution_count": null,
   "id": "5138fe86-8df4-4c24-81f2-97ba6ee6ed3c",
   "metadata": {},
   "outputs": [],
   "source": [
    "n = int(input(\"Digite o número inteiro não negativo diferente de zero:\"))\n",
    "\n",
    "value_sum = sum([ value for value in range(1,n+1) if value % 2 != 0 ])\n",
    "print(value_sum)\n",
    "# if n % 2 == 0:\n",
    "#     print((n/2)**2)\n",
    "# else:\n",
    "#     print(((n+1)/2)**2)"
   ]
  },
  {
   "cell_type": "markdown",
   "id": "e923fbb7-2110-4660-b284-71cbb01eddd0",
   "metadata": {},
   "source": [
    "## Listas Alinhadas\n",
    "\n",
    "Uma lista pode aceitar objetos e outras listas como elementos:"
   ]
  },
  {
   "cell_type": "code",
   "execution_count": null,
   "id": "13cb0731-6e75-47d2-819b-90e033349d63",
   "metadata": {},
   "outputs": [],
   "source": [
    "list_alunos = ['Aluno1', ['Aluno1', 10], 'Aluno1' , ['Aluno1', 3], ['Aluno1', 9], ['Aluno1', 5], ['Aluno2', 7.5], ['Aluno1', 8], 'Aluno5',\n",
    "               ['Aluno1', 3], ['Aluno2', 3], ['Aluno2', 3], None, None, 'Aluno2', ['Aluno1', 1]]"
   ]
  },
  {
   "cell_type": "markdown",
   "id": "a43554fa-85c4-4a5e-a491-44502d4be104",
   "metadata": {},
   "source": [
    "## Exercício 06\n",
    "\n",
    "Com base na lista *list_alunos* vamos calcular a média das notas do 'Aluno1'. Contudo a lista chega com dados muito \"sujos\". Logo o código deverá ser imune a tipos de dados estranhos."
   ]
  },
  {
   "cell_type": "code",
   "execution_count": null,
   "id": "4a8b6649-9c47-4746-aee7-32bb11aaf98c",
   "metadata": {},
   "outputs": [],
   "source": [
    "soma_nota_aluno1 = 0\n",
    "qtd_aluno1 = 0\n",
    "for item in list_alunos:\n",
    "    if type(item) == list and item[0] == 'Aluno1':\n",
    "        soma_nota_aluno1 += item[1]\n",
    "        qtd_aluno1 += 1\n",
    "\n",
    "print(f\"A média do Aluno1 é: {soma_nota_aluno1/qtd_aluno1}\")"
   ]
  },
  {
   "cell_type": "markdown",
   "id": "857beaf8-35a9-4999-8747-a2f0f87dbd9a",
   "metadata": {},
   "source": [
    " Uma *string* pode virar uma lista de algumas maneiras: \\\n",
    " 1 - Usando a função *split()* \\\n",
    " 2 - Forçando o cast com o comando list()"
   ]
  },
  {
   "cell_type": "code",
   "execution_count": 7,
   "id": "42f2bfb9-69b1-4239-98fd-874901194dfc",
   "metadata": {},
   "outputs": [
    {
     "name": "stdout",
     "output_type": "stream",
     "text": [
      "0123456789abcdefghijklmnopqrstuvwxyzABCDEFGHIJKLMNOPQRSTUVWXYZ!\"#$%&'()*+,-./:;<=>?@[\\]^_`{|}~ \t\n",
      "\u000b",
      "\f",
      "\n",
      "['0', '1', '2', '3', '4', '5', '6', '7', '8', '9', 'a', 'b', 'c', 'd', 'e', 'f', 'g', 'h', 'i', 'j', 'k', 'l', 'm', 'n', 'o', 'p', 'q', 'r', 's', 't', 'u', 'v', 'w', 'x', 'y', 'z', 'A', 'B', 'C', 'D', 'E', 'F', 'G', 'H', 'I', 'J', 'K', 'L', 'M', 'N', 'O', 'P', 'Q', 'R', 'S', 'T', 'U', 'V', 'W', 'X', 'Y', 'Z', '!', '\"', '#', '$', '%', '&', \"'\", '(', ')', '*', '+', ',', '-', '.', '/', ':', ';', '<', '=', '>', '?', '@', '[', '\\\\', ']', '^', '_', '`', '{', '|', '}', '~', ' ', '\\t', '\\n', '\\r', '\\x0b', '\\x0c']\n"
     ]
    }
   ],
   "source": [
    "import string\n",
    "\n",
    "print(string.printable)\n",
    "print(list(string.printable))"
   ]
  },
  {
   "cell_type": "markdown",
   "id": "cec47c4b-fb62-46dc-8ae9-e0c62af66d44",
   "metadata": {},
   "source": [
    "## Exercício 07\n",
    "\n",
    "Execute o comando abaixo e procure na variável s as strings as palavras que podem ser nomes próprios em todas a string. \n",
    "DICA: *split* em '\\n' para as quebras de linhas e cada frase *split* pelo espaço para obter todas as palavras."
   ]
  },
  {
   "cell_type": "code",
   "execution_count": 6,
   "id": "a4872502-1451-4d11-8348-dccfa1230dfe",
   "metadata": {},
   "outputs": [
    {
     "name": "stdout",
     "output_type": "stream",
     "text": [
      "['Gur', 'Mra', 'Clguba,', 'Gvz', 'Crgref', 'Ornhgvshy', 'Rkcyvpvg', 'Fvzcyr', 'Pbzcyrk', 'Syng', 'Fcnefr', 'Ernqnovyvgl', 'Fcrpvny', 'Nygubhtu', 'Reebef', 'Hayrff', 'Va', 'Gurer', 'Nygubhtu', 'Qhgpu.', 'Abj', 'Nygubhtu', 'Vs', 'Vs', 'Anzrfcnprf']\n"
     ]
    }
   ],
   "source": [
    "import this\n",
    "\n",
    "list_words = [ word for phrase in this.s.split('\\n') if phrase != '' for word in phrase.split(' ') if word.istitle()]\n",
    "print(list_words)"
   ]
  },
  {
   "cell_type": "markdown",
   "id": "3c521062-e9db-489b-85f8-6e28a870551c",
   "metadata": {},
   "source": [
    "## Finalizando\n",
    "\n",
    "1 - Entender a importância do if como um recursos de filtragem de dados e seleção.\n",
    "\n",
    "2 - Usar uma lista e seus métodos para a manipulação do conteúdo\n",
    "\n",
    "3 - Usar o *Loop for* para "
   ]
  },
  {
   "cell_type": "markdown",
   "id": "d046b4cb-875f-488c-a74c-888e2e9d9bb9",
   "metadata": {},
   "source": [
    "## Loop While\n",
    "\n",
    "O laço for toma uma coleção de itens e executa um bloco de código uma vez para cada item da coleção. Em comparação, o laço *while* executa durante o tempo em que, ou enquanto, uma determinada condição for verdadeira.\n",
    "\n",
    "  <figure style=\"text-align: center;\">\n",
    "      <img type=\"image/png\" src=\"https://panda.ime.usp.br/pensepy/static/pensepy/_images/while_flow.png\" width=\"40%\" alt=\"fluxo unário\"/>\n",
    "      <figcaption>Diagrama de fluxo de execução do loop while<br>\n",
    "       https://panda.ime.usp.br/pensepy/static/pensepy/_images/while_flow.png</figcaption>\n",
    "  </figure>"
   ]
  },
  {
   "cell_type": "markdown",
   "id": "c53e6439-7159-4773-a4d3-ba7d1865cde4",
   "metadata": {},
   "source": [
    "### Exercício 01\n",
    "\n",
    "Com base no *script* abaixo. Construa a versão desse código usando while. E implemente um controle de erro que permita o usuário digitar\n",
    "novamente a entrada caso não sejam números separados por vírgulas.\n",
    "``` python\n",
    "list_input_strs = input(\"Insira a lista de números separados por vírgulas:\").split(',')\n",
    "list_values = []\n",
    "\n",
    "#loop for por elementos\n",
    "for value in list_input_strs:\n",
    "    value_square = int(value)**2\n",
    "    list_values.append(str(value_square))\n",
    "```"
   ]
  },
  {
   "cell_type": "code",
   "execution_count": 36,
   "id": "98b630ad-ee10-4a34-b0e5-77c137bacf70",
   "metadata": {},
   "outputs": [
    {
     "name": "stdin",
     "output_type": "stream",
     "text": [
      "Insira a lista de números separados por vírgulas: 6,5\n"
     ]
    },
    {
     "name": "stdout",
     "output_type": "stream",
     "text": [
      "[36.0, 25.0]\n"
     ]
    }
   ],
   "source": [
    "input_str = input(\"Insira a lista de números separados por vírgulas:\").replace(' ','')\n",
    "\n",
    "while not input_str.replace(',','').replace('.','').isdecimal():\n",
    "    input_str = input(\"Insira a lista de números separados por vírgulas:\").replace(' ','')\n",
    "\n",
    "list_input_strs = input_str.split(',')\n",
    "list_values = []\n",
    "\n",
    "count = 0\n",
    "while count<len(list_input_strs):\n",
    "    list_values.append(float(list_input_strs[count])**2)\n",
    "    count+=1\n",
    "\n",
    "print(list_values)"
   ]
  },
  {
   "cell_type": "markdown",
   "id": "e0790abe-7eea-401f-8ef8-887d32d45a00",
   "metadata": {},
   "source": [
    "Ao final do while podemos utilizar a instrução else. O propósito disso é executar alguma instrução ou bloco de código ao final do loop."
   ]
  },
  {
   "cell_type": "markdown",
   "id": "b2461f4a-3c00-42ba-8eee-0541fa184602",
   "metadata": {},
   "source": [
    "### Exemplo\n",
    "\n",
    "Faça um script python que acumule diversos valores inseridos pelo usuário. Esses valores devem ser inseridos um a um e quando o usuário digitar um character que não possa ser convertido para um número o programa deve parar e imprimir o valor acumulado."
   ]
  },
  {
   "cell_type": "code",
   "execution_count": 4,
   "id": "fe0ce635-d896-44e0-8419-7509e77e024d",
   "metadata": {},
   "outputs": [
    {
     "name": "stdin",
     "output_type": "stream",
     "text": [
      "Digite um número 3\n",
      "Digite um número 3\n",
      "Digite um número 3\n",
      "Digite um número 3\n",
      "Digite um número 3\n",
      "Digite um número 3\n",
      "Digite um número 3\n",
      "Digite um número 3\n",
      "Digite um número 0\n",
      "Digite um número .\n"
     ]
    },
    {
     "name": "stdout",
     "output_type": "stream",
     "text": [
      "Programa interrompido, valor não válido digitado: valor final é: 24.0\n"
     ]
    }
   ],
   "source": [
    "flag = True\n",
    "acc_values = 0\n",
    "while flag:\n",
    "    value = input(\"Digite um número\")\n",
    "    if value.isnumeric():\n",
    "        acc_values += float(value)\n",
    "    else:\n",
    "        flag = False\n",
    "else:\n",
    "    print(\"Programa interrompido, valor não válido digitado: valor final é:\", acc_values)"
   ]
  },
  {
   "cell_type": "markdown",
   "id": "f655fe39-9e46-4f67-8199-42a1db5c1772",
   "metadata": {},
   "source": [
    "## Iterator\n",
    "\n",
    "O *Iterador* é um padrão de projeto comportamental que permite a passagem sequencial através de uma estrutura de dados complexa sem expor seus detalhes internos.\n",
    "\n",
    "**Pontos positivos** O comportamento *lazy* faz com que os dados já inspecionados são removidos da memória. Ganho de performance em processo e memória \\\n",
    "**Pontos negativos** Uma vez a inspeção feita não teremos mais acesso aos dados visitados. Algumas informações sobre a estrutura não são visíveis."
   ]
  },
  {
   "cell_type": "code",
   "execution_count": 22,
   "id": "f44a1d71-48a0-4d12-b7ea-2b849ec2e5ba",
   "metadata": {},
   "outputs": [
    {
     "name": "stdout",
     "output_type": "stream",
     "text": [
      "0\n",
      "1\n",
      "2\n",
      "3\n",
      "4\n",
      "5\n",
      "6\n",
      "7\n",
      "8\n",
      "9\n",
      "\n",
      "tamanho do iterator após o loop: 0\n"
     ]
    }
   ],
   "source": [
    "import string \n",
    "\n",
    "digits = iter(string.digits)\n",
    "for algarism in digits:\n",
    "    print(algarism)\n",
    "\n",
    "print(\"\\ntamanho do iterator após o loop:\", len(list(alphabet)))"
   ]
  },
  {
   "cell_type": "markdown",
   "id": "59d4b6c0-0b4b-49b5-a689-9d297dfcfcfa",
   "metadata": {},
   "source": [
    "Quando usamos o *while* podemos inspecionar de maneira diferente:"
   ]
  },
  {
   "cell_type": "code",
   "execution_count": 35,
   "id": "b5b76058-e8c7-47c7-b87d-97727d5331fe",
   "metadata": {},
   "outputs": [
    {
     "name": "stdout",
     "output_type": "stream",
     "text": [
      "0\n",
      "1\n",
      "2\n",
      "3\n",
      "4\n",
      "Chegou ao 5 parou\n"
     ]
    }
   ],
   "source": [
    "import string \n",
    "\n",
    "digits = iter(string.digits)\n",
    "\n",
    "while (algarism := next(digits, None)) is not None and algarism != '5':\n",
    "    print(algarism)\n",
    "else:\n",
    "    print('Chegou ao 5 parou')\n",
    "# digits = iter(string.digits)\n",
    "\n",
    "# while (algarism := next(digits, None)) is not None:\n",
    "#     if float(algarism) % 2 == 0:\n",
    "#         print(algarism)\n"
   ]
  },
  {
   "cell_type": "code",
   "execution_count": null,
   "id": "bb15a3ad-45bf-4f61-ac4b-6d66401d80ea",
   "metadata": {},
   "outputs": [],
   "source": []
  }
 ],
 "metadata": {
  "kernelspec": {
   "display_name": "Python 3 (ipykernel)",
   "language": "python",
   "name": "python3"
  },
  "language_info": {
   "codemirror_mode": {
    "name": "ipython",
    "version": 3
   },
   "file_extension": ".py",
   "mimetype": "text/x-python",
   "name": "python",
   "nbconvert_exporter": "python",
   "pygments_lexer": "ipython3",
   "version": "3.8.10"
  }
 },
 "nbformat": 4,
 "nbformat_minor": 5
}
