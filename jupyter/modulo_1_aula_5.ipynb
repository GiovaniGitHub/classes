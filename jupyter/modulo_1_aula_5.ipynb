{
 "cells": [
  {
   "cell_type": "markdown",
   "id": "cec47c4b-fb62-46dc-8ae9-e0c62af66d44",
   "metadata": {},
   "source": [
    "## Exercício 07\n",
    "\n",
    "Execute o comando abaixo e procure na variável s as strings as palavras que podem ser nomes próprios em todas a string. \n",
    "DICA: *split* em '\\n' para as quebras de linhas e cada frase *split* pelo espaço para obter todas as palavras."
   ]
  },
  {
   "cell_type": "code",
   "execution_count": 6,
   "id": "a4872502-1451-4d11-8348-dccfa1230dfe",
   "metadata": {},
   "outputs": [
    {
     "name": "stdout",
     "output_type": "stream",
     "text": [
      "['Gur', 'Mra', 'Clguba,', 'Gvz', 'Crgref', 'Ornhgvshy', 'Rkcyvpvg', 'Fvzcyr', 'Pbzcyrk', 'Syng', 'Fcnefr', 'Ernqnovyvgl', 'Fcrpvny', 'Nygubhtu', 'Reebef', 'Hayrff', 'Va', 'Gurer', 'Nygubhtu', 'Qhgpu.', 'Abj', 'Nygubhtu', 'Vs', 'Vs', 'Anzrfcnprf']\n"
     ]
    }
   ],
   "source": [
    "import this\n",
    "\n",
    "list_words = [ word for phrase in this.s.split('\\n') if phrase != '' for word in phrase.split(' ') if word.istitle()]\n",
    "print(list_words)"
   ]
  },
  {
   "cell_type": "markdown",
   "id": "3c521062-e9db-489b-85f8-6e28a870551c",
   "metadata": {},
   "source": [
    "## Finalizando\n",
    "\n",
    "1 - Entender a importância do if como um recursos de filtragem de dados e seleção.\n",
    "\n",
    "2 - Usar uma lista e seus métodos para a manipulação do conteúdo\n",
    "\n",
    "3 - Usar o *Loop for* para "
   ]
  },
  {
   "cell_type": "markdown",
   "id": "d046b4cb-875f-488c-a74c-888e2e9d9bb9",
   "metadata": {},
   "source": [
    "## Loop While\n",
    "\n",
    "O laço for toma uma coleção de itens e executa um bloco de código uma vez para cada item da coleção. Em comparação, o laço *while* executa durante o tempo em que, ou enquanto, uma determinada condição for verdadeira.\n",
    "\n",
    "  <figure style=\"text-align: center;\">\n",
    "      <img type=\"image/png\" src=\"https://panda.ime.usp.br/pensepy/static/pensepy/_images/while_flow.png\" width=\"40%\" alt=\"fluxo unário\"/>\n",
    "      <figcaption>Diagrama de fluxo de execução do loop while<br>\n",
    "       https://panda.ime.usp.br/pensepy/static/pensepy/_images/while_flow.png</figcaption>\n",
    "  </figure>"
   ]
  },
  {
   "cell_type": "markdown",
   "id": "c53e6439-7159-4773-a4d3-ba7d1865cde4",
   "metadata": {},
   "source": [
    "### Exercício 01\n",
    "\n",
    "Com base no *script* abaixo. Construa a versão desse código usando while. E implemente um controle de erro que permita o usuário digitar\n",
    "novamente a entrada caso não sejam números separados por vírgulas.\n",
    "``` python\n",
    "list_input_strs = input(\"Insira a lista de números separados por vírgulas:\").split(',')\n",
    "list_values = []\n",
    "\n",
    "#loop for por elementos\n",
    "for value in list_input_strs:\n",
    "    value_square = int(value)**2\n",
    "    list_values.append(str(value_square))\n",
    "```"
   ]
  },
  {
   "cell_type": "code",
   "execution_count": 36,
   "id": "98b630ad-ee10-4a34-b0e5-77c137bacf70",
   "metadata": {},
   "outputs": [
    {
     "name": "stdin",
     "output_type": "stream",
     "text": [
      "Insira a lista de números separados por vírgulas: 6,5\n"
     ]
    },
    {
     "name": "stdout",
     "output_type": "stream",
     "text": [
      "[36.0, 25.0]\n"
     ]
    }
   ],
   "source": [
    "input_str = input(\"Insira a lista de números separados por vírgulas:\").replace(' ','')\n",
    "\n",
    "while not input_str.replace(',','').replace('.','').isdecimal():\n",
    "    input_str = input(\"Insira a lista de números separados por vírgulas:\").replace(' ','')\n",
    "\n",
    "list_input_strs = input_str.split(',')\n",
    "list_values = []\n",
    "\n",
    "count = 0\n",
    "while count<len(list_input_strs):\n",
    "    list_values.append(float(list_input_strs[count])**2)\n",
    "    count+=1\n",
    "\n",
    "print(list_values)"
   ]
  },
  {
   "cell_type": "markdown",
   "id": "e0790abe-7eea-401f-8ef8-887d32d45a00",
   "metadata": {},
   "source": [
    "Ao final do while podemos utilizar a instrução else. O propósito disso é executar alguma instrução ou bloco de código ao final do loop."
   ]
  },
  {
   "cell_type": "markdown",
   "id": "b2461f4a-3c00-42ba-8eee-0541fa184602",
   "metadata": {},
   "source": [
    "### Exemplo\n",
    "\n",
    "Faça um script python que acumule diversos valores inseridos pelo usuário. Esses valores devem ser inseridos um a um e quando o usuário digitar um character que não possa ser convertido para um número o programa deve parar e imprimir o valor acumulado."
   ]
  },
  {
   "cell_type": "code",
   "execution_count": 4,
   "id": "fe0ce635-d896-44e0-8419-7509e77e024d",
   "metadata": {},
   "outputs": [
    {
     "name": "stdin",
     "output_type": "stream",
     "text": [
      "Digite um número 3\n",
      "Digite um número 3\n",
      "Digite um número 3\n",
      "Digite um número 3\n",
      "Digite um número 3\n",
      "Digite um número 3\n",
      "Digite um número 3\n",
      "Digite um número 3\n",
      "Digite um número 0\n",
      "Digite um número .\n"
     ]
    },
    {
     "name": "stdout",
     "output_type": "stream",
     "text": [
      "Programa interrompido, valor não válido digitado: valor final é: 24.0\n"
     ]
    }
   ],
   "source": [
    "flag = True\n",
    "acc_values = 0\n",
    "while flag:\n",
    "    value = input(\"Digite um número\")\n",
    "    if value.isnumeric():\n",
    "        acc_values += float(value)\n",
    "    else:\n",
    "        flag = False\n",
    "else:\n",
    "    print(\"Programa interrompido, valor não válido digitado: valor final é:\", acc_values)"
   ]
  },
  {
   "cell_type": "markdown",
   "id": "f655fe39-9e46-4f67-8199-42a1db5c1772",
   "metadata": {},
   "source": [
    "## Iterator\n",
    "\n",
    "O *Iterador* é um padrão de projeto comportamental que permite a passagem sequencial através de uma estrutura de dados complexa sem expor seus detalhes internos.\n",
    "\n",
    "**Pontos positivos** O comportamento *lazy* faz com que os dados já inspecionados são removidos da memória. Ganho de performance em processo e memória \\\n",
    "**Pontos negativos** Uma vez a inspeção feita não teremos mais acesso aos dados visitados. Algumas informações sobre a estrutura não são visíveis."
   ]
  },
  {
   "cell_type": "code",
   "execution_count": 22,
   "id": "f44a1d71-48a0-4d12-b7ea-2b849ec2e5ba",
   "metadata": {},
   "outputs": [
    {
     "name": "stdout",
     "output_type": "stream",
     "text": [
      "0\n",
      "1\n",
      "2\n",
      "3\n",
      "4\n",
      "5\n",
      "6\n",
      "7\n",
      "8\n",
      "9\n",
      "\n",
      "tamanho do iterator após o loop: 0\n"
     ]
    }
   ],
   "source": [
    "import string \n",
    "\n",
    "digits = iter(string.digits)\n",
    "for algarism in digits:\n",
    "    print(algarism)\n",
    "\n",
    "print(\"\\ntamanho do iterator após o loop:\", len(list(alphabet)))"
   ]
  },
  {
   "cell_type": "markdown",
   "id": "59d4b6c0-0b4b-49b5-a689-9d297dfcfcfa",
   "metadata": {},
   "source": [
    "Quando usamos o *while* podemos inspecionar de maneira diferente:"
   ]
  },
  {
   "cell_type": "code",
   "execution_count": 35,
   "id": "b5b76058-e8c7-47c7-b87d-97727d5331fe",
   "metadata": {},
   "outputs": [
    {
     "name": "stdout",
     "output_type": "stream",
     "text": [
      "0\n",
      "1\n",
      "2\n",
      "3\n",
      "4\n",
      "Chegou ao 5 parou\n"
     ]
    }
   ],
   "source": [
    "import string \n",
    "\n",
    "digits = iter(string.digits)\n",
    "\n",
    "while (algarism := next(digits, None)) is not None and algarism != '5':\n",
    "    print(algarism)\n",
    "else:\n",
    "    print('Chegou ao 5 parou')\n",
    "# digits = iter(string.digits)\n",
    "\n",
    "# while (algarism := next(digits, None)) is not None:\n",
    "#     if float(algarism) % 2 == 0:\n",
    "#         print(algarism)\n"
   ]
  },
  {
   "cell_type": "code",
   "execution_count": 3,
   "id": "bb15a3ad-45bf-4f61-ac4b-6d66401d80ea",
   "metadata": {},
   "outputs": [
    {
     "name": "stdout",
     "output_type": "stream",
     "text": [
      "9088\n",
      "7288\n",
      "5488\n",
      "3688\n",
      "1888\n"
     ]
    }
   ],
   "source": [
    "from sys import getsizeof\n",
    "from copy import deepcopy\n",
    "\n",
    "list_ = list(range(1000))\n",
    "list_iter = iter(list_)\n",
    "list_sum_divs = []\n",
    "while (value := next(list_iter,None)) is not None:\n",
    "    if value % 200 == 0:\n",
    "        print(getsizeof(list(deepcopy(list_iter))))\n",
    "    if value % 3 == 0:\n",
    "        list_sum_divs.append(value)"
   ]
  },
  {
   "cell_type": "code",
   "execution_count": 12,
   "id": "17bfa43d-a710-45f3-b351-950405d8c7ce",
   "metadata": {},
   "outputs": [
    {
     "name": "stdout",
     "output_type": "stream",
     "text": [
      "8056\n",
      "8056\n",
      "8056\n",
      "8056\n",
      "8056\n",
      "tempo gasto 0.000925\n"
     ]
    }
   ],
   "source": [
    "list_ = list(range(1000))\n",
    "list_sum_divs = []\n",
    "\n",
    "for value in list_:\n",
    "    if value % 200 == 0:\n",
    "        print(getsizeof(list_))\n",
    "    if value % 3 == 0:\n",
    "        list_sum_divs.append(value)\n"
   ]
  },
  {
   "cell_type": "markdown",
   "id": "a19340a8-f9f3-4fc9-8727-b5922b604426",
   "metadata": {},
   "source": [
    "# Dicionários\n",
    "\n",
    "Os dicionários são coleções de itens e seus elementos são armazenados de forma não ordenada, a partir de uma relação chave-valor.\n",
    "\n",
    "- Uma chave que vai servir para indexar determinado elemento no dicionário.\n",
    "- O valor aceita diversos tipos: listas, outros dicionários, inteiros, strings, objetos e funções.\n",
    "- Sua sintaxe básica é: {'chave': 'valor'}. Utiliza-se {} para delimitar o dicionário e a chave é separada do valor por dois pontos \":\""
   ]
  },
  {
   "cell_type": "code",
   "execution_count": 2,
   "id": "e921eba7-aab1-44fe-9dde-ce9fd768f8f7",
   "metadata": {},
   "outputs": [
    {
     "name": "stdout",
     "output_type": "stream",
     "text": [
      "<class 'dict'> {'chave': 'valor'}\n"
     ]
    }
   ],
   "source": [
    "dict_example_1 = {'chave': 'valor'}\n",
    "\n",
    "print(type(dict_example), dict_example)\n",
    "dict_example_2 = dict(primeiro=1, segundo=2, terceiro=3)\n"
   ]
  },
  {
   "cell_type": "markdown",
   "id": "05e168ac-1817-4007-846a-1ce6b3bfb4c4",
   "metadata": {},
   "source": [
    "Outra maneira consiste em usar a função ```zip```."
   ]
  },
  {
   "cell_type": "code",
   "execution_count": 11,
   "id": "5b6855f9-4795-4422-8ef6-ea33eaeffb21",
   "metadata": {},
   "outputs": [
    {
     "name": "stdout",
     "output_type": "stream",
     "text": [
      "{'primeiro': 1, 'segundo': 2, 'terceiro': 3}\n"
     ]
    }
   ],
   "source": [
    "dict_example_3 = dict(zip(['primeiro', 'segundo', 'terceiro'], [1, 2, 3]))\n",
    "print(dict_example_3)"
   ]
  },
  {
   "cell_type": "markdown",
   "id": "f4083257-9714-4f61-a3c2-5e3b3c0e0554",
   "metadata": {},
   "source": [
    "Para acessar, criar, alterar e remover os dados podemos utilizar os seguintes comandos:"
   ]
  },
  {
   "cell_type": "code",
   "execution_count": 12,
   "id": "6ef90423-18c3-4f26-bd54-09ee217e8770",
   "metadata": {},
   "outputs": [
    {
     "name": "stdout",
     "output_type": "stream",
     "text": [
      "O valor no dicionario com a chave primeiro é 1\n",
      "{'primeiro': 1, 'segundo': 2, 'terceiro': 3, 'quarto': 4}\n",
      "{'primeiro': 1, 'segundo': 2, 'terceiro': 3, 'quarto': 4, 'quinto': 5}\n",
      "{'primeiro': 1, 'segundo': 2, 'terceiro': 3, 'quarto': 4}\n",
      "{'primeiro': 1, 'segundo': 2, 'terceiro': 3}\n",
      "{'primeiro': 1, 'segundo': 2}\n",
      "{'primeiro': 1, 'segundo': 2, 'terceiro': 3, 'quarto': 4, 'quinto': 5, 'setimo': 7}\n"
     ]
    }
   ],
   "source": [
    "#ACESSO A UM DADO DE UM DICIONÁRIO PELA CHAVE\n",
    "print(f\"O valor no dicionario com a chave primeiro é {dict_example_3['primeiro']}\")\n",
    "\n",
    "#INSERIR UM VALOR EM UM DICIONÁRIO JÁ EXISTENTE:\n",
    "dict_example_3['quarto'] = 4\n",
    "print(dict_example_3)\n",
    "\n",
    "dict_example_3.update({'quinto':5})\n",
    "print(dict_example_3)\n",
    "\n",
    "#REMOVER UM ELEMENTO DE UM DICIONARIO\n",
    "del dict_example_3['quinto']\n",
    "print(dict_example_3)\n",
    "\n",
    "dict_example_3.pop('quarto', None)\n",
    "print(dict_example_3)\n",
    "\n",
    "#EXCLUINDO O ULTIMO ELEMENTO\n",
    "dict_example_3.popitem()\n",
    "print(dict_example_3)\n",
    "\n",
    "#PODEMOS TAMBÉM MERGEAR (JUNTAR) OS DADOS DE VÁRIOS DICIONÁRIOS EM UM SÓ.\n",
    "dict_new = {'terceiro': 3,'quarto':4, 'quinto':5}\n",
    "dict_example_updated = {**dict_example_3, **dict_new}\n",
    "\n",
    "dict_example_updated.update({'setimo': 7})\n",
    "print(dict_example_updated)\n"
   ]
  },
  {
   "cell_type": "markdown",
   "id": "43ec6930-ceac-48af-8e23-3c9e20d71503",
   "metadata": {},
   "source": [
    "Podemos ter acesso exclusivamenente as chaves ou aos valores utilizando as funções keys() e values(), respectivamente."
   ]
  },
  {
   "cell_type": "code",
   "execution_count": 22,
   "id": "286d4156-c028-4e52-8388-8bae8a7c8532",
   "metadata": {},
   "outputs": [
    {
     "name": "stdout",
     "output_type": "stream",
     "text": [
      "As chaves:  primeiro, segundo, terceiro, quarto, quinto, setimo\n",
      "Os valores são:  1, 2, 3, 4, 5, 7\n"
     ]
    }
   ],
   "source": [
    "print(\"As chaves: \", \", \".join(list(dict_example_updated.keys())))\n",
    "print(\"Os valores são: \", \", \".join([str(v) for v in dict_example_updated.values()]))"
   ]
  },
  {
   "cell_type": "markdown",
   "id": "4f929947-c05d-40bd-a4ab-6d2af5ced4a9",
   "metadata": {},
   "source": [
    "Quando percorremos um dicionário com um loop, por definição ele mapeia pelo índice:"
   ]
  },
  {
   "cell_type": "code",
   "execution_count": 24,
   "id": "cd5f1162-4d07-4a97-9365-9677064de9d7",
   "metadata": {},
   "outputs": [
    {
     "name": "stdout",
     "output_type": "stream",
     "text": [
      "primeiro  :  1\n",
      "segundo  :  2\n"
     ]
    }
   ],
   "source": [
    "for key in dict_example_3:\n",
    "    print(key, ' : ', dict_example_3[key] )"
   ]
  },
  {
   "cell_type": "markdown",
   "id": "598c6e7c-3cc4-44cc-b26a-ad92f8296e45",
   "metadata": {},
   "source": [
    "Contudo podemos percorrer os ítens pelas tuplas com o método *items()*."
   ]
  },
  {
   "cell_type": "code",
   "execution_count": 27,
   "id": "4a7b5834-fda8-40e4-9529-e9c77d3641b8",
   "metadata": {},
   "outputs": [
    {
     "name": "stdout",
     "output_type": "stream",
     "text": [
      "primeiro  :  1\n",
      "segundo  :  2\n"
     ]
    }
   ],
   "source": [
    "for key, value in dict_example_3.items():\n",
    "    print(key, ' : ', value)"
   ]
  },
  {
   "cell_type": "markdown",
   "id": "f634f962-cd31-4c6a-a33b-205733d9dbcb",
   "metadata": {},
   "source": [
    "## Exemplo 01\n",
    "\n",
    "Um programador python recebeu os dados de uma planinha a partir de um *streaming*. Os dados sempre chegam com um cabeçalho e os dados em forma de string separado por vírgula, como no exemplo:\n",
    "\n",
    "``` python\n",
    "list_data = ['ano, mes, dia, valor', '2020, 01, 01, 150.0']\n",
    "```\n",
    "\n",
    "Com base nessas informações faça um script python que mapeia a lista nesse formato e transforma em um dicionário da forma\n",
    "\n",
    "``` python\n",
    "dict_data = {'ano':'2020', 'mes':'01', 'dia':'01', 'valor':'150.0'}\n",
    "```"
   ]
  },
  {
   "cell_type": "code",
   "execution_count": 35,
   "id": "14358c93-1c3e-4a81-b3a7-11c6c6071a5d",
   "metadata": {},
   "outputs": [
    {
     "name": "stdout",
     "output_type": "stream",
     "text": [
      "{'ano': '2020', 'mes': ' 01', 'dia': ' 01', 'valor': ' 150.0'}\n"
     ]
    }
   ],
   "source": [
    "list_data = ['ano, mes, dia, valor', '2020, 01, 01, 150.0']\n",
    "\n",
    "list_header = list_data[0].replace(' ','').split(',')\n",
    "list_values = list_data[1].split(',')\n",
    "\n",
    "dict_data = dict(zip(list_header, list_values))\n",
    "\n",
    "print(dict_data)\n"
   ]
  },
  {
   "cell_type": "markdown",
   "id": "c69e313d-4bfe-41f6-adf0-5ebe30feeee1",
   "metadata": {},
   "source": [
    "## Exercício 02 \n",
    "\n",
    "Com base no exercício anterior, generalize o script para que possa ler uma lista que contêm vários dados que chegarão no formato:\n",
    "```python\n",
    "list_data = [['ano, mes, dia, valor', '2020, 01, 01, 150.0'], ['ano, mes, dia, valor', '2020, 01, 02, 250.0'], ['ano, mes, dia, valor', '2020, 01, 03, 20.0'], ['ano, mes, dia, valor', '2020, 01, 04, 300.0']]\n",
    "```\n",
    "\n",
    "``` python\n",
    "dict_data = [{'ano':'2020', 'mes':'01', 'dia':'01', 'valor':'150.0'}, {'ano':'2020', 'mes':'01', 'dia':'02', 'valor':'250.0'}. {'ano':'2020', 'mes':'01', 'dia':'03', 'valor':'20.0'}, {'ano':'2020', 'mes':'01', 'dia':'04', 'valor':'300.0'}]\n",
    "```"
   ]
  },
  {
   "cell_type": "code",
   "execution_count": 37,
   "id": "e652c09e-19bc-4f9f-a906-739fd000df21",
   "metadata": {},
   "outputs": [
    {
     "name": "stdout",
     "output_type": "stream",
     "text": [
      "[{'ano': '2020', 'mes': ' 01', 'dia': ' 01', 'valor': ' 150.0'}, {'ano': '2020', 'mes': ' 01', 'dia': ' 02', 'valor': ' 250.0'}, {'ano': '2020', 'mes': ' 01', 'dia': ' 03', 'valor': ' 20.0'}, {'ano': '2020', 'mes': ' 01', 'dia': ' 04', 'valor': ' 300.0'}]\n"
     ]
    }
   ],
   "source": [
    "list_data = [['ano, mes, dia, valor', '2020, 01, 01, 150.0'], ['ano, mes, dia, valor', '2020, 01, 02, 250.0'],\n",
    "             ['ano, mes, dia, valor', '2020, 01, 03, 20.0'], ['ano, mes, dia, valor', '2020, 01, 04, 300.0']]\n",
    "\n",
    "list_dict_data = []\n",
    "for row in list_data:\n",
    "    list_header = row[0].replace(' ','').split(',')\n",
    "    list_values = row[1].split(',')\n",
    "\n",
    "    list_dict_data.append(dict(zip(list_header, list_values)))\n",
    "\n",
    "print(list_dict_data)"
   ]
  },
  {
   "cell_type": "markdown",
   "id": "99022dcc-f7b4-4cc4-af4c-c5a80b84fd5c",
   "metadata": {},
   "source": [
    "## Exercício 03\n",
    "\n",
    "Dada a lista abaixo, crie um dicionário que tenha as chaves como o nome do estudante e o valor a média:\n",
    "```python\n",
    "list_alunos = ['Aluno1', ['Aluno1', 10], 'Aluno1' , ['Aluno1', 3], ['Aluno1', 9], ['Aluno1', 5], ['Aluno2', 7.5], ['Aluno1', 8], 'Aluno5',\n",
    "               ['Aluno1', 3], ['Aluno2', 3], ['Aluno2', 3], None, None, 'Aluno2', ['Aluno1', 10]]\n",
    "```"
   ]
  },
  {
   "cell_type": "code",
   "execution_count": 43,
   "id": "9bbd1beb-44ea-496e-a86d-8c12d83d48b9",
   "metadata": {},
   "outputs": [
    {
     "name": "stdout",
     "output_type": "stream",
     "text": [
      "Aluno1 6.857142857142857\n",
      "Aluno2 4.5\n",
      "Aluno3 8.5\n"
     ]
    }
   ],
   "source": [
    "list_alunos = ['Aluno1', ['Aluno1', 10], 'Aluno1' , ['Aluno1', 3], ['Aluno1', 9], ['Aluno1', 5], ['Aluno2', 7.5], ['Aluno1', 8], 'Aluno5',\n",
    "               ['Aluno1', 3], ['Aluno2', 3], ['Aluno2', 3], None, None, 'Aluno2', ['Aluno1', 10], ['Aluno3',10], ['Aluno3',7], 'Aluno3',5]\n",
    "dict_alunos = {}\n",
    "\n",
    "for value in list_alunos:\n",
    "    if type(value) == list:\n",
    "        aluno = value[0]\n",
    "        if not aluno in dict_alunos:\n",
    "            dict_alunos[aluno] = [value[1]]\n",
    "        else:\n",
    "            dict_alunos[aluno].append(value[1])\n",
    "\n",
    "for aluno,notas in dict_alunos.items():\n",
    "    print(aluno,sum(notas)/len(notas))"
   ]
  },
  {
   "cell_type": "markdown",
   "id": "5c7aa935-c4ba-474a-bd5f-3d29b655fd97",
   "metadata": {},
   "source": [
    "## Dict Compreension\n",
    "\n",
    "Assim como nas listas, os dicionários possuem a possibilidade de serem mapeados um loop na declaração. Assim como o *list compreension*."
   ]
  },
  {
   "cell_type": "markdown",
   "id": "79bf643d-9d67-4b43-85a9-a872547c1fb5",
   "metadata": {},
   "source": [
    "## Exercício 04\n",
    "\n",
    "Usando o *dict compreension* filtre o dicionário *dict_alunos* para obter o dicionário somente com os alunos com nota acima 7."
   ]
  },
  {
   "cell_type": "code",
   "execution_count": 50,
   "id": "9f6f9c04-b68d-442c-9388-329bfa7303d3",
   "metadata": {},
   "outputs": [
    {
     "name": "stdout",
     "output_type": "stream",
     "text": [
      "{'Aluno3': 8.5}\n"
     ]
    }
   ],
   "source": [
    "# dict_student_mean = {}\n",
    "# for key in dict_alunos:\n",
    "#     mean = sum(dict_alunos[key])/len(dict_alunos[key])\n",
    "#     dict_student_mean.update({key:mean})\n",
    "\n",
    "# dict_student_upper_seven = {key:value for key,value in dict_student_mean.items() if value > 7}\n",
    "# print(dict_student_upper_seven)\n",
    "\n",
    "dict_student_upper_seven = {key:sum(value)/len(value) for key, value in dict_alunos.items()\n",
    "                            if sum(value)/len(value) > 7}\n",
    "\n",
    "print(dict_student_upper_seven)"
   ]
  }
 ],
 "metadata": {
  "kernelspec": {
   "display_name": "Python 3 (ipykernel)",
   "language": "python",
   "name": "python3"
  },
  "language_info": {
   "codemirror_mode": {
    "name": "ipython",
    "version": 3
   },
   "file_extension": ".py",
   "mimetype": "text/x-python",
   "name": "python",
   "nbconvert_exporter": "python",
   "pygments_lexer": "ipython3",
   "version": "3.8.10"
  }
 },
 "nbformat": 4,
 "nbformat_minor": 5
}
