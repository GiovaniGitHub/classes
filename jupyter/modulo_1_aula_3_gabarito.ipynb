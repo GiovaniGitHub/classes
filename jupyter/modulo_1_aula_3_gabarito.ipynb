{
 "cells": [
  {
   "cell_type": "markdown",
   "id": "57e6a44e-7e81-46b0-b51d-d208202d399a",
   "metadata": {
    "tags": []
   },
   "source": [
    "## Condicional *inline*\n",
    "\n",
    "Um recurso comum em algumas linguagens é o \"if inline\" que geralmente é um formato:\n",
    "\n",
    "*valor_se_verdade* **if** *condicional* **else** *valor_se_falso*\n",
    "\n",
    "**Ponto positivo:**\n",
    "Para filtros mais simples e para atribuição de variáveis ele funciona muito bem\n",
    "\n",
    "**Ponto negativo:**\n",
    "Para filtros complexos compromete a legibilidade do código."
   ]
  },
  {
   "cell_type": "markdown",
   "id": "76acdacd-f433-4929-bdd0-c631e310343b",
   "metadata": {},
   "source": [
    "## Exemplo 01\n",
    "\n",
    "Faça um *script* python que afirma se o nome é próprio ou não."
   ]
  },
  {
   "cell_type": "code",
   "execution_count": null,
   "id": "2519dfa3-1099-4a51-ba50-05cbc2146088",
   "metadata": {},
   "outputs": [],
   "source": [
    "nome = input(\"Digite um substantivo\")\n",
    "\n",
    "status_nome = \"Próprio\" if nome.istitle() else \"Comum\"\n",
    "print(f\"A palavra {nome} é um substantivo {status_nome}\")"
   ]
  },
  {
   "cell_type": "markdown",
   "id": "4308d438-969c-446b-813f-81f8433ca288",
   "metadata": {},
   "source": [
    "Suponhamos que agora seja necessários no mesmo if inline se o valor digitado seja necessariamente uma string sem números."
   ]
  },
  {
   "cell_type": "code",
   "execution_count": null,
   "id": "6d848b69-c823-417d-aa7b-f495b11a8a91",
   "metadata": {},
   "outputs": [],
   "source": [
    "nome = input(\"Digite um substantivo\")\n",
    "\n",
    "status_nome = None if not nome.isalpha() else (\"Próprio\" if nome.istitle() else \"Comum\")\n",
    "if status_nome:\n",
    "    print(f\"A palavra {nome} é um substantivo {status_nome}\")\n",
    "\n",
    "else: \n",
    "    print(\"Não é um valor válido\")"
   ]
  },
  {
   "cell_type": "markdown",
   "id": "96adee0f-7eec-46c1-bd3c-ff837a4eb3a4",
   "metadata": {},
   "source": [
    "Um outras maneira de fazer um condicional em python (uma maneira não muito famosa) é usando a forma:\n",
    "result = (*valor_fora_da_condição*, *valor_dentro_da_condição*)[condição]\n"
   ]
  },
  {
   "cell_type": "code",
   "execution_count": null,
   "id": "ca36a751-3ff5-4648-ad04-af8590501589",
   "metadata": {},
   "outputs": [],
   "source": [
    "nome = input(\"Digite um substantivo\")\n",
    "\n",
    "status_nome = (\"Comum\",\"Próprio\")[nome.istitle()]\n",
    "print(f\"A palavra {nome} é um substantivo {status_nome}\")"
   ]
  },
  {
   "cell_type": "code",
   "execution_count": null,
   "id": "60e51b98-fbbf-4138-bec9-f9c78c8241bb",
   "metadata": {},
   "outputs": [],
   "source": [
    "nome = input(\"Digite um substantivo\")\n",
    "\n",
    "status_nome = (None,\n",
    "               (\"Comum\",\"Próprio\")[nome.istitle()])[nome.isalpha()]\n",
    "if status_nome:\n",
    "    print(f\"A palavra {nome} é um substantivo {status_nome}\")\n",
    "\n",
    "else: \n",
    "    print(\"Não é um valor válido\")"
   ]
  },
  {
   "cell_type": "markdown",
   "id": "52065747-9b1b-4b4e-941e-89545865de60",
   "metadata": {},
   "source": [
    "## Finalizando\n",
    "\n",
    "1 - Quais as condições de uso de um condicional \\ \n",
    "2 - A diferença entre um condicional binário e unário \\\n",
    "3 - O uso do *elif* \\\n",
    "4 - O uso do *inline* ou usando tuplas"
   ]
  },
  {
   "cell_type": "markdown",
   "id": "8734915a-3601-4bcc-8acd-7ad792b948ba",
   "metadata": {},
   "source": [
    "# Introdução Listas\n",
    "\n",
    "1 - Uma lista é uma coleção de elementos em uma ordem em particular.\\\n",
    "2 - Uma lista pode incluir as caracteres, strings, números, objetos complexos e até outra lista.\\\n",
    "3 - Em Python, colchetes ( [ ] ) indicam uma lista. Podemos também criar a partir da chamada a função *list()*.\n",
    "\n",
    "\n",
    "Como uma lista geralmente contém mais de um elemento, é uma boa ideia deixar seu nome no plural, por exemplo, *letters* , *digits* ou *names* ."
   ]
  },
  {
   "cell_type": "code",
   "execution_count": null,
   "id": "6c31fbea-cf90-4f4b-9e13-4ce13ae84869",
   "metadata": {},
   "outputs": [],
   "source": [
    "#Exemplos de listas\n",
    "list_numbers = [1,2,3,4,5,10,-1]\n",
    "list_chars = ['a','b','c','d']\n",
    "list_motos = ['honda', 'yamaha', 'suzuki', 'kawasaki']\n",
    "\n",
    "print(list_motos)"
   ]
  },
  {
   "cell_type": "markdown",
   "id": "7734f690-17f6-46a3-96ef-1fe66c242bf3",
   "metadata": {},
   "source": [
    "Podemos acessar os valores em uma lista a partir do índice do elemento."
   ]
  },
  {
   "cell_type": "code",
   "execution_count": null,
   "id": "0b47556b-f3cb-453c-aa16-6417c42c6941",
   "metadata": {},
   "outputs": [],
   "source": [
    "print(\"Primeiro elemento: \", list_motos[0])\n",
    "print(\"Segundo elemento: \", list_motos[1])\n",
    "\n",
    "print(\"Ultimo elemento: \", list_motos[-1])\n",
    "print(\"Penúltimo elemento: \", list_motos[-2])"
   ]
  },
  {
   "cell_type": "markdown",
   "id": "7d7e5451-b724-4bea-9d60-a0b264297311",
   "metadata": {},
   "source": [
    "Para adicionar um elemento pode ser utilizado o método *insert(indice, valor)*, *append(valor)* ou o operador de atribuição *+=*. O insert permite dizer especificamente aonde irá inserir o valor, já o append e o operador de atribuição irá inserir somente no final da fila."
   ]
  },
  {
   "cell_type": "code",
   "execution_count": null,
   "id": "21874380-690c-49b9-b41a-d8bb1bdb76e3",
   "metadata": {},
   "outputs": [],
   "source": [
    "list_motos.insert(0, 'ducati')\n",
    "print(list_motos)\n",
    "\n",
    "list_motos.append('harley')\n",
    "print(list_motos)\n",
    "\n",
    "list_motos+=['ducati']\n",
    "print(list_motos)"
   ]
  },
  {
   "cell_type": "markdown",
   "id": "cd64ba8d-be41-4b5b-8802-53da6691338e",
   "metadata": {},
   "source": [
    "Para remover um elemento podemos usar o método *remove(value)*, *pop(index)* ou a função *del*."
   ]
  },
  {
   "cell_type": "code",
   "execution_count": null,
   "id": "63c01867-033a-4d0b-bc59-83e42eaddedd",
   "metadata": {},
   "outputs": [],
   "source": [
    "del list_motos[0]\n",
    "print(list_motos)\n",
    "\n",
    "element_poped = list_motos.pop(3)\n",
    "print(element_poped)\n",
    "print(list_motos)\n",
    "\n",
    "list_motos.remove('suzuki')\n",
    "print(list_motos)\n"
   ]
  },
  {
   "cell_type": "markdown",
   "id": "69d1abf2-f7bb-4b24-abbe-66a7cbce6a27",
   "metadata": {},
   "source": [
    "Ordernar uma lista pode ser feito pelo método *sorted(list)* ou pelo método *sort()* implementado no próprio objeto *list*."
   ]
  },
  {
   "cell_type": "code",
   "execution_count": null,
   "id": "585ae615-d27a-44d4-95a4-49eac5278d44",
   "metadata": {},
   "outputs": [],
   "source": [
    "list_motos_sorted = sorted(list_motos,reverse=False)\n",
    "list_motos_sorted_reversed = sorted(list_motos,reverse=True)\n",
    "\n",
    "print(', '.join(list_motos_sorted))\n",
    "print(', '.join(list_motos_sorted_reversed))"
   ]
  },
  {
   "cell_type": "markdown",
   "id": "30d4da0e-98d7-4416-b739-234bfb427491",
   "metadata": {},
   "source": [
    "Algumas funções podem ser usadads quando uma lista e **só de valores numéricos**: min(), max(), sum()"
   ]
  },
  {
   "cell_type": "markdown",
   "id": "c1180dcb-0798-4658-a85f-44246031a545",
   "metadata": {},
   "source": [
    "## Exercício 02\n",
    "\n",
    "Faça um script python que dada uma lista de número calcule:\n",
    "1 - a média de todos os valores\n",
    "2 - a distância do maior para o menor valor\n",
    "3 - a distância da média para o menor valor\n",
    "4 - a distância da média para o maior valor\n",
    "\n",
    "OBS.: len(lista): retorna o tamanho da lista\n",
    "      abs(valor): retorna o valor absoluto de um número."
   ]
  },
  {
   "cell_type": "code",
   "execution_count": null,
   "id": "23e40818-831b-4211-bd6f-d6fbcbe64826",
   "metadata": {},
   "outputs": [],
   "source": [
    "list_numbers = [3,2,4,57,4,4]\n",
    "\n",
    "avg_list_numbers = sum(list_numbers)/len(list_numbers)\n",
    "max_list_numbers = max(list_numbers)\n",
    "min_list_numbers = min(list_numbers)\n"
   ]
  },
  {
   "cell_type": "markdown",
   "id": "df220d0c-8514-46be-be76-9b1512023183",
   "metadata": {},
   "source": [
    "| Função | Parâmetros | Descrição |\n",
    "| --- | --- | --- |\n",
    "| append | valor | Acrescenta um novo item no final da lista |\n",
    "| insert | índice, valor | Insere um novo item na posição dada|\n",
    "| reverse | nenhum | Ordena a lista em ordem reversa|\n",
    "| index | item | Retorna a posição da primeira ocorrência do item|\n",
    "| count | item |Retorna o número de ocorrências do item|\n",
    "| remove | item | Remove a primeira ocorrência do item|"
   ]
  },
  {
   "cell_type": "markdown",
   "id": "5e30f836-fcb6-4046-9110-c891ec2ec3af",
   "metadata": {},
   "source": [
    "## Finalizando\n",
    "\n",
    "1 - Entender o conceito de uma lista bem como sua função. \\\n",
    "2 - Entender as principais funções de uma lista \\\n",
    "3 - Usar as principais funções de uma lista. "
   ]
  },
  {
   "cell_type": "markdown",
   "id": "da3e927d-d94d-43d4-82a8-d8183533805f",
   "metadata": {},
   "source": [
    "## Loop For\n",
    "\n",
    "É possível percorrer uma lista iterando através de itens ou iterando através de índices."
   ]
  },
  {
   "cell_type": "code",
   "execution_count": null,
   "id": "5ee71cd9-d8f6-4615-b17d-b12701838444",
   "metadata": {},
   "outputs": [],
   "source": [
    "frutas = [\"pera\", \"laranja\", \"banana\", \"cereja\"]\n",
    "\n",
    "str_loop_items = \"\"\n",
    "for uma_fruta in frutas:\n",
    "    print(uma_fruta)\n",
    "\n",
    "print('================================')\n",
    "for indice in range(len(frutas)):\n",
    "    print(frutas[indice])"
   ]
  },
  {
   "cell_type": "markdown",
   "id": "8096c235-bf9f-4771-8bad-449dcba53170",
   "metadata": {},
   "source": [
    "### Exercício 03\n",
    "\n",
    " Faça um script python que recebe uma lista do usuário (usando a função input) e armazena em uma lista e calcula o quadrado dos números."
   ]
  },
  {
   "cell_type": "code",
   "execution_count": null,
   "id": "24904511-184f-41e4-b295-ef188a3daa36",
   "metadata": {},
   "outputs": [],
   "source": [
    "list_input_strs = input(\"Insira a lista de números separados por vírgulas:\").split(',')\n",
    "list_values = []\n",
    "\n",
    "#loop for por elementos\n",
    "for value in list_input_strs:\n",
    "    value_square = int(value)**2\n",
    "    list_values.append(str(value_square))\n",
    "\n",
    "#loop for por índice:\n",
    "for i in range(len(list_input_strs)):\n",
    "    value_square = int(list_input_strs[i])**2\n",
    "    list_values.append(str(value_square))\n",
    "\n",
    "print(\",\".join(list_values))"
   ]
  },
  {
   "cell_type": "markdown",
   "id": "26602b32-09f2-48d8-8725-e624b6b212f6",
   "metadata": {},
   "source": [
    "## List comprehensions\n",
    "\n",
    "No python existe uma maneira de trabalhar com lista e loop for. Basicamente é a execução do loop for que obedece a seguinte sintexe: \n",
    "\n",
    "[<expressão> for <item> in <sequência>]\n",
    "    \n",
    "[<expressão> for <item> in <sequência> if <condição> ]\n",
    "    \n",
    "[<expressão> if <condição> else <expressão> for <item> in <sequência>] \n"
   ]
  },
  {
   "cell_type": "markdown",
   "id": "c43acd8d-5dd6-40dd-aaa2-5a32bb064eab",
   "metadata": {},
   "source": [
    "## Exercício 04\n",
    "\n",
    "Converta o Exercício 03 para *list_comprehention*. E fazer uma outra versão que calcula o quadrado somente para os valores ímpares."
   ]
  },
  {
   "cell_type": "markdown",
   "id": "7f702289-e1c1-4836-a0e7-d86435e7753f",
   "metadata": {},
   "source": [
    "## Exercício 05\n",
    "\n",
    "Desenvolva um script python que recebe um número não nulo, positivo e inteiro, e soma todos os valores ímpares menores ou igual que o respectivo número.\n",
    "Exemplo: número digitado 11\n",
    "resultado: 1+3+5+7+9+11 = 36\n",
    "\n",
    "Exemplo: número digitado 10\n",
    "resultado: 1+3+5+7+9 = 25"
   ]
  },
  {
   "cell_type": "code",
   "execution_count": null,
   "id": "51dd4fc4-178f-4cfd-b62b-c55d5629fa5e",
   "metadata": {},
   "outputs": [],
   "source": [
    "n = int(input(\"Digite o número inteiro não negativo diferente de zero:\"))\n",
    "\n",
    "value_sum = sum([ value for value in range(1,n+1) if value % 2 != 0 ])\n",
    "print(value_sum)\n",
    "# if n % 2 == 0:\n",
    "#     print((n/2)**2)\n",
    "# else:\n",
    "#     print(((n+1)/2)**2)"
   ]
  },
  {
   "cell_type": "markdown",
   "id": "96d23c74-56b4-4d3a-a235-06ff4ae00ac1",
   "metadata": {},
   "source": [
    "## Listas Alinhadas\n",
    "\n",
    "Uma lista pode aceitar objetos e outras listas como elementos:"
   ]
  },
  {
   "cell_type": "code",
   "execution_count": null,
   "id": "87eb5329-de8e-48f4-9bd3-9a303222d30c",
   "metadata": {},
   "outputs": [],
   "source": [
    "list_alunos = ['Aluno1', ['Aluno1', 10], 'Aluno1' , ['Aluno1', 3], ['Aluno1', 9], ['Aluno1', 5], ['Aluno2', 7.5], ['Aluno1', 8], 'Aluno5',\n",
    "               ['Aluno1', 3], ['Aluno2', 3], ['Aluno2', 3], None, None, 'Aluno2', ['Aluno1', 1]]"
   ]
  },
  {
   "cell_type": "markdown",
   "id": "0802c1ad-5d3a-443c-b2f0-a2203423ecb6",
   "metadata": {},
   "source": [
    "## Exercício 06\n",
    "\n",
    "Com base na lista *list_alunos* vamos calcular a média das notas do 'Aluno1'. Contudo a lista chega com dados muito \"sujos\". Logo o código deverá ser imune a tipos de dados estranhos."
   ]
  },
  {
   "cell_type": "code",
   "execution_count": null,
   "id": "336a5ad7-78cf-4543-94ac-a259d786f141",
   "metadata": {},
   "outputs": [],
   "source": [
    "soma_nota_aluno1 = 0\n",
    "qtd_aluno1 = 0\n",
    "for item in list_alunos:\n",
    "    if type(item) == list and item[0] == 'Aluno1':\n",
    "        soma_nota_aluno1 += item[1]\n",
    "        qtd_aluno1 += 1\n",
    "\n",
    "print(f\"A média do Aluno1 é: {soma_nota_aluno1/qtd_aluno1}\")"
   ]
  },
  {
   "cell_type": "markdown",
   "id": "f4329bfd-f6ab-49c8-8adb-610180397e9e",
   "metadata": {},
   "source": [
    " Uma *string* pode virar uma lista de algumas maneiras: \\\n",
    " 1 - Usando a função *split()* \\\n",
    " 2 - Forçando o cast com o comando list()"
   ]
  },
  {
   "cell_type": "code",
   "execution_count": null,
   "id": "563baf37-8960-4ceb-b2d9-af50669de272",
   "metadata": {},
   "outputs": [],
   "source": [
    "import string\n",
    "\n",
    "print(string.printable)\n",
    "print(list(string.printable))"
   ]
  },
  {
   "cell_type": "markdown",
   "id": "04d405ca-97c2-444e-ad56-b70137c1896a",
   "metadata": {},
   "source": [
    "## Exercício 07\n",
    "\n",
    "Execute o comando abaixo e procure na variável s as strings as palavras que podem ser nomes próprios em todas a string. \n",
    "DICA: *split* em '\\n' para as quebras de linhas e cada frase *split* pelo espaço para obter todas as palavras."
   ]
  },
  {
   "cell_type": "code",
   "execution_count": null,
   "id": "bcfb9044-ec3e-4a86-8848-fd2253653b45",
   "metadata": {},
   "outputs": [],
   "source": [
    "import this\n",
    "\n",
    "s = this.s"
   ]
  },
  {
   "cell_type": "markdown",
   "id": "d3af8e15-7b48-4c93-95c4-86bae72e3ff2",
   "metadata": {},
   "source": [
    "## Finalizando\n",
    "\n",
    "1 - Entender a importância do if como um recursos de filtragem de dados e seleção.\n",
    "2 - Usar uma lista e seus métodos para a manipulação do conteúdo\n",
    "3 - Usar o *Loop for* para "
   ]
  }
 ],
 "metadata": {
  "kernelspec": {
   "display_name": "Python 3 (ipykernel)",
   "language": "python",
   "name": "python3"
  },
  "language_info": {
   "codemirror_mode": {
    "name": "ipython",
    "version": 3
   },
   "file_extension": ".py",
   "mimetype": "text/x-python",
   "name": "python",
   "nbconvert_exporter": "python",
   "pygments_lexer": "ipython3",
   "version": "3.8.10"
  }
 },
 "nbformat": 4,
 "nbformat_minor": 5
}
