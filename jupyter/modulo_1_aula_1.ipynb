{
 "cells": [
  {
   "cell_type": "markdown",
   "metadata": {},
   "source": [
    "# Introdução\n",
    "\n",
    "## Instalação\n",
    "### No Windows\n",
    "**Python** https://python.org.br/instalacao-windows/ \n",
    "\n",
    "**Anaconda** https://minerandodados.com.br/instalar-python-anaconda/\n",
    "             https://www.anaconda.com/\n",
    "             https://docs.conda.io/en/latest/miniconda.html\n",
    "\n",
    "**Install IPython** \n",
    "```sh\n",
    "conda install -c anaconda ipython\n",
    "```\n",
    "### No Linux (Debian Distro)\n",
    "```sh\n",
    "sudo apt update\n",
    "sudo apt install python3\n",
    "sudo apt install python3-pip\n",
    "sudo pip install jupyterlab\n",
    "```\n",
    "\n",
    "## Testando a instalação\n",
    "```sh\n",
    "python --version\n",
    "```"
   ]
  },
  {
   "cell_type": "markdown",
   "metadata": {},
   "source": [
    "## Criando o primeiro arquivo .py\n",
    "```sh\n",
    "echo \"print('Hello World')\" > hello_world.py \n",
    "python3 hello_world.py\n",
    "```"
   ]
  },
  {
   "cell_type": "markdown",
   "metadata": {},
   "source": [
    "## Variáveis\n",
    "Vamos experimentar usar uma variável em **hello_world.py**. Acrescente uma nova linha no início do arquivo e modifique a segunda linha:\n",
    "\\\n",
    "\\\n",
    "message = \"Hello Python world!\""
   ]
  },
  {
   "cell_type": "code",
   "execution_count": null,
   "metadata": {},
   "outputs": [],
   "source": [
    "message = \"Hello Python world!\"\n",
    "print(message)"
   ]
  },
  {
   "cell_type": "markdown",
   "metadata": {},
   "source": [
    "## Como nomear uma variável em Python.\n",
    "<ul>\n",
    "    <li>Não usa espaços nos nomes das variáveis, mas é recomendado underline.</li>\n",
    "    <li>Evite usar palavras reservadas e nomes de funções em Python.</li>\n",
    "    <li>Para o nome de variáveis é recomendado o uso do padrão snake_case.</li>\n",
    "    <ul>\n",
    "        <li>Camel Case: \"ioStream\", \"propertieClass\".</li>\n",
    "        <li>Pascal Case: \"PropertieClass\", \"IoStream\"</li>\n",
    "        <li>Snake Case: \"propertie_class\" e \"io_stream\"</li>\n",
    "</ul>\n",
    "    "
   ]
  },
  {
   "cell_type": "markdown",
   "metadata": {},
   "source": [
    "## Tipos de Dados\n",
    "\n",
    "**Lógico**\n",
    "\\\n",
    "O tipo lógico aceita somente dois valores *False* e *True*.\n",
    "\n",
    "**String**\n",
    "\\\n",
    "Na programação **string** representa um conjunto de caracteres disposto numa determinada ordem.\n",
    "\n",
    "A partir de agora, todas as vezes em que falarmos o termo **string**, estaremos nos referindo a um conjunto de caracteres.\n",
    "\n",
    "Em python chamado de *str*.\n",
    "\n",
    "\\\n",
    "**Numéricos**\n",
    "\\\n",
    "Um segundo tipo de informação são os dados compostos por caracteres numéricos (algarismo).\n",
    "Os números são divididos em 3 partes:\n",
    "\n",
    "   **inteiros** - Em python chamados *int* \n",
    "   \\\n",
    "   **ponto flutuante** - Em python chamado de *float*\n",
    "   \\\n",
    "   **complexo** - Em python, nativamente, já podemos contar com os números complexos que é chamado de *complex*."
   ]
  },
  {
   "cell_type": "markdown",
   "metadata": {},
   "source": [
    "## String\n",
    "\n",
    "Uma **string** é simplesmente uma série de caracteres. Tudo que estiver\n",
    "entre aspas é considerada uma **string** em Python, e você pode usar aspas\n",
    "simples ou duplas em torno de suas strings:"
   ]
  },
  {
   "cell_type": "code",
   "execution_count": 1,
   "metadata": {},
   "outputs": [],
   "source": [
    "string_1 = 'com aspas simples'\n",
    "string_2 = \"com aspas duplas\"\n",
    "string_3 = \"\"\"Textos muito grandes que vão quebrar a linha podemos usar as duplas repetidas, \n",
    "assim o interpretador python não quebra.\n",
    "\"\"\""
   ]
  },
  {
   "cell_type": "code",
   "execution_count": 3,
   "metadata": {},
   "outputs": [
    {
     "name": "stdout",
     "output_type": "stream",
     "text": [
      "Textos muito grandes que vão quebrar a linha podemos usar as duplas repetidas, \n",
      "assim o interpretador python não quebra.\n",
      "\n"
     ]
    }
   ],
   "source": [
    "print(string_3)"
   ]
  },
  {
   "cell_type": "markdown",
   "metadata": {},
   "source": [
    "### Exercício\n",
    "\n",
    "Crie um código python que armazena a string *\"Let's Code\"* em seguida exibe no terminal o conteúdo da varíavel. Em seguida execute funções *upper()*, *lower()*, *title()*,\n",
    "armazene em variáveis e exiba os resultados no terminal."
   ]
  },
  {
   "cell_type": "markdown",
   "metadata": {},
   "source": [
    "### Dica\n",
    "\n",
    "Usar a função *dir* sobre uma varíavel permite ver todas as funções que a variável disponibiliza."
   ]
  },
  {
   "cell_type": "code",
   "execution_count": 9,
   "metadata": {},
   "outputs": [
    {
     "name": "stdout",
     "output_type": "stream",
     "text": [
      "['__add__', '__class__', '__contains__', '__delattr__', '__dir__', '__doc__', '__eq__', '__format__', '__ge__', '__getattribute__', '__getitem__', '__getnewargs__', '__gt__', '__hash__', '__init__', '__init_subclass__', '__iter__', '__le__', '__len__', '__lt__', '__mod__', '__mul__', '__ne__', '__new__', '__reduce__', '__reduce_ex__', '__repr__', '__rmod__', '__rmul__', '__setattr__', '__sizeof__', '__str__', '__subclasshook__', 'capitalize', 'casefold', 'center', 'count', 'encode', 'endswith', 'expandtabs', 'find', 'format', 'format_map', 'index', 'isalnum', 'isalpha', 'isascii', 'isdecimal', 'isdigit', 'isidentifier', 'islower', 'isnumeric', 'isprintable', 'isspace', 'istitle', 'isupper', 'join', 'ljust', 'lower', 'lstrip', 'maketrans', 'partition', 'replace', 'rfind', 'rindex', 'rjust', 'rpartition', 'rsplit', 'rstrip', 'split', 'splitlines', 'startswith', 'strip', 'swapcase', 'title', 'translate', 'upper', 'zfill']\n"
     ]
    }
   ],
   "source": [
    "school_name = \"Let's Code\"\n",
    "print(dir(school_name))"
   ]
  },
  {
   "cell_type": "markdown",
   "metadata": {},
   "source": [
    "### Algumas operações bastante usadas com Strings\n",
    "1 - **Concatenação**\n",
    "\n",
    "A concatenação consiste em juntar duas ou mais strings formando uma única string."
   ]
  },
  {
   "cell_type": "code",
   "execution_count": null,
   "metadata": {},
   "outputs": [],
   "source": []
  },
  {
   "cell_type": "code",
   "execution_count": 10,
   "metadata": {},
   "outputs": [],
   "source": [
    "string_1 = \"Let's\"\n",
    "string_2 = \"Code\"\n",
    "\n",
    "string_concat = string_1 + string_2\n",
    "print(string_concat)"
   ]
  },
  {
   "cell_type": "markdown",
   "metadata": {},
   "source": [
    "2 - **Substituir termos da String**\n",
    "\n",
    "\n",
    "O python oferece a função *replace* que permite a substituição de uma determinada substring por outro conjunto de caracteres."
   ]
  },
  {
   "cell_type": "code",
   "execution_count": 12,
   "metadata": {},
   "outputs": [
    {
     "name": "stdout",
     "output_type": "stream",
     "text": [
      "ola giovani.\n"
     ]
    }
   ],
   "source": [
    "nome = \"Giovani\"\n",
    "mensagem = \"Ola fulano.\"\n",
    "\n",
    "print(mensagem.replace(\"fulano\", nome))"
   ]
  },
  {
   "cell_type": "markdown",
   "metadata": {},
   "source": [
    "## Exercício 2\n",
    "\n",
    "Sabendo que as função *upper* deixa string em caixa alta e *lower* deixa a string toda em caixa baixa. Faça um código que transforma variável \n",
    "nome = \"Lets Code\" no padrão *snake case* e exibe na tela usando a função *print* a sua versão *snake_case* e a string toda caixa alta."
   ]
  },
  {
   "cell_type": "markdown",
   "metadata": {},
   "source": [
    "3 - **Substituir valores de variáveis em uma string**"
   ]
  },
  {
   "cell_type": "code",
   "execution_count": 12,
   "metadata": {},
   "outputs": [
    {
     "name": "stdout",
     "output_type": "stream",
     "text": [
      "A Let's Code oferece diversos cursos, eu faço Ciência de Dados\n",
      "Aprendizagem de Máquina faz parte da ementa de Ciência de Dados\n"
     ]
    }
   ],
   "source": [
    "variavel_1 = \"Let's Code\"\n",
    "variavel_2 = \"Ciência de Dados\"\n",
    "print(f\"A {variavel} oferece diversos cursos, eu faço {variavel_2}\")\n",
    "\n",
    "str_template = \"{} faz parte da ementa de {}\"\n",
    "variavel_1 = 'Aprendizagem de Máquina'\n",
    "\n",
    "print(str_template.format(variavel_1, variavel_2))"
   ]
  },
  {
   "cell_type": "markdown",
   "metadata": {},
   "source": [
    "## Números\n",
    "\n",
    "Python suporta números inteiros, números de ponto flutuante e números complexos. Eles são definidos como int, float e complex."
   ]
  },
  {
   "cell_type": "code",
   "execution_count": 2,
   "metadata": {},
   "outputs": [
    {
     "name": "stdout",
     "output_type": "stream",
     "text": [
      "<class 'float'>\n",
      "<class 'float'>\n",
      "(1.1+3j)\n",
      "True\n"
     ]
    }
   ],
   "source": [
    "a = 1.1\n",
    "\n",
    "print(type(a))\n",
    "\n",
    "print(type(5.0))\n",
    "\n",
    "c = a + 3j\n",
    "print(c)\n",
    "\n",
    "print(isinstance(c, complex))"
   ]
  },
  {
   "cell_type": "markdown",
   "metadata": {},
   "source": [
    "### Operadores Aritméticos\n",
    "\n",
    "As operações básicas em python são bastante semelhantes a qualquer outra linguagem:"
   ]
  },
  {
   "cell_type": "code",
   "execution_count": 20,
   "metadata": {},
   "outputs": [
    {
     "name": "stdout",
     "output_type": "stream",
     "text": [
      "# SOMA #\n",
      "5.3\n",
      "(4.3+3j)\n",
      "(3+3j)\n",
      "\n",
      "# SUBTRAÇÃO #\n",
      "5.3\n",
      "(4.3+3j)\n",
      "(3+3j)\n",
      "\n",
      "# MULTIPLICAÇÃO #\n",
      "6.6\n",
      "(3.3+9.899999999999999j)\n",
      "(2+6j)\n",
      "\n",
      "# DIVISÃO #\n",
      "0.6060606060606061\n",
      "(0.32999999999999996-0.9899999999999999j)\n",
      "(0.5+1.5j)\n",
      "\n",
      "# DIVISÃO #\n",
      "9.849155306759329\n",
      "(-2.985434811828708-1.4061219663746407j)\n",
      "(-8+6j)\n",
      "\n",
      "# RESTO DA DIVISÃO INTEIRA #\n",
      "2.0\n",
      "\n",
      "# DIVISÃO INTEIRA #\n",
      "0.0\n"
     ]
    }
   ],
   "source": [
    "v_int = 2\n",
    "v_decimal = 3.3\n",
    "v_complex = 1+3j\n",
    "#SOMA\n",
    "print(\"# SOMA #\")\n",
    "print(v_int + v_decimal)\n",
    "print(v_decimal + v_complex)\n",
    "print(v_complex + v_int)\n",
    "\n",
    "#SUBTRAÇÃO\n",
    "print(\"\\n# SUBTRAÇÃO #\")\n",
    "print(v_int + v_decimal)\n",
    "print(v_decimal + v_complex)\n",
    "print(v_complex + v_int)\n",
    "#MULTIPLICAÇÃO\n",
    "print(\"\\n# MULTIPLICAÇÃO #\")\n",
    "print(v_int*v_decimal)\n",
    "print(v_decimal*v_complex)\n",
    "print(v_complex*v_int)\n",
    "\n",
    "#DIVISÃO\n",
    "print(\"\\n# DIVISÃO #\")\n",
    "print(v_int/v_decimal)\n",
    "print(v_decimal/v_complex)\n",
    "print(v_complex/v_int)\n",
    "\n",
    "#POTENCIAÇÃO\n",
    "print(\"\\n# DIVISÃO #\")\n",
    "print(v_int**v_decimal)\n",
    "print(v_decimal**v_complex)\n",
    "print(v_complex**v_int)\n",
    "\n",
    "#RESTO DA DIVISÃO INTEIRA\n",
    "print(\"\\n# RESTO DA DIVISÃO INTEIRA #\")\n",
    "print(v_int % v_decimal)\n",
    "print(v_decimal % v_complex)\n",
    "print(v_complex % v_int)\n",
    "\n",
    "#DIVISÃO INTEIRA\n",
    "print(\"\\n# DIVISÃO INTEIRA #\")\n",
    "print(v_int // v_decimal)\n",
    "#print(v_decimal // v_complex)\n",
    "#print(v_complex // v_int)"
   ]
  },
  {
   "cell_type": "markdown",
   "metadata": {},
   "source": [
    "## Exercício 3\n",
    "\n",
    "Faça um código python em um arquivo com o nome *calcula.py* que possui duas variáveis *valor_1* e *valor_2* onde deverá ter dois números e deve imprimir o valor de das operações da soma, subtração, multiplicação, divisão e radiciação. Lembrando que:\n",
    "$$\\sqrt[valor\\_2]{valor\\_1} = valor\\_1 ^ \\frac{1}{valor\\_2}$$\n",
    "\n",
    "E no retorno o print deve retornar no formato: *O resultado da operação* **nome_da_operação** *entre os números* **valor_1** *e* **valor_2** *é* **resultado**."
   ]
  },
  {
   "cell_type": "markdown",
   "metadata": {},
   "source": [
    "### Operadores de Atribuição\n",
    "\n",
    "Os operadores de atribuição consistem em operadores que \"populam\" uma variável com um valor. No Python, assim como na maioria das linguagens, podem realizar uma operação e já atribui o resultado a uma variável pré existente:"
   ]
  },
  {
   "cell_type": "code",
   "execution_count": 23,
   "metadata": {},
   "outputs": [
    {
     "name": "stdout",
     "output_type": "stream",
     "text": [
      "102\n",
      "101\n"
     ]
    }
   ],
   "source": [
    "salario = 100\n",
    "ajuste = 2\n",
    "desconto = 1\n",
    "\n",
    "salario += ajuste\n",
    "print(salario)\n",
    "salario -= desconto\n",
    "\n",
    "print(salario)\n"
   ]
  },
  {
   "cell_type": "markdown",
   "metadata": {},
   "source": [
    "Além das operações **+=** e **-=**, temos os operadores **\\*=**, **/=**, **\\*\\*=**, **//=**, **%=**"
   ]
  },
  {
   "cell_type": "markdown",
   "metadata": {},
   "source": [
    "## Exercício 4\n",
    "\n",
    "Implemente uma script python que realize o aumento de 25% do salário de um funcionário. O valor do salário deve estar atribuido a uma variável e o aumento deve ser feito utilizando operador de atribuição. Após o aumento, deve realizar o desconto de maneira também percentual de 10%.\n",
    "A saída no terminal deve ser impressa no formato:\n",
    "\n",
    "*Salário base:* **valor** \\\n",
    "*Salário com ajuste:* **valor** \\\n",
    "*Salário final:* **valor**"
   ]
  },
  {
   "cell_type": "markdown",
   "metadata": {},
   "source": [
    "## Operadores de Comparação\n",
    "\n",
    "Você pode usar operadores de comparação para comparar os valores das variáveis. Eles sempre retornarão um valor booleano, que é *True* ou *False*.\n",
    " ==,  !=, >, <, >=, <="
   ]
  },
  {
   "cell_type": "code",
   "execution_count": 4,
   "metadata": {},
   "outputs": [
    {
     "name": "stdout",
     "output_type": "stream",
     "text": [
      "False\n",
      "True\n",
      "False\n",
      "True\n",
      "False\n",
      "True\n",
      "True\n"
     ]
    }
   ],
   "source": [
    "a = 3\n",
    "b = 5\n",
    "\n",
    "print(a == b)\n",
    "print(a != b) \n",
    "print(a > b) \n",
    "print(a < b) \n",
    "print(a >= b) \n",
    "print(a <= b)\n",
    "print(\"Python\" != \"R\")"
   ]
  },
  {
   "cell_type": "markdown",
   "metadata": {},
   "source": [
    "## Operadores Lógicos\n",
    "\n",
    "Os operadores lógicos do python basicamente são *and*, *not* e *or*. E podem ser "
   ]
  },
  {
   "cell_type": "code",
   "execution_count": 28,
   "metadata": {},
   "outputs": [
    {
     "name": "stdout",
     "output_type": "stream",
     "text": [
      "1\n",
      "0\n",
      "False\n",
      "None\n"
     ]
    }
   ],
   "source": [
    "print(1 and 1)\n",
    "print(1 and 0)\n",
    "print(True and False)\n",
    "print(None and False)"
   ]
  },
  {
   "cell_type": "markdown",
   "metadata": {
    "tags": []
   },
   "source": [
    "## Finalizando \n",
    "\n",
    "1 - Características da linguagem python. \\\n",
    "2 - Como instalar o python no linux e/ou no windows. \\\n",
    "3 - O que são variáveis como atribuir elas. \\\n",
    "4 - Como nomear uma variável e quais os padrões. E qual a importância. \\\n",
    "5 - Tipo string e quais suas principais caracterísicas. \\\n",
    "6 - Tipo numérico e quais suas principais caracterísicas e operações."
   ]
  }
 ],
 "metadata": {
  "interpreter": {
   "hash": "916dbcbb3f70747c44a77c7bcd40155683ae19c65e1c03b4aa3499c5328201f1"
  },
  "kernelspec": {
   "display_name": "Python 3",
   "language": "python",
   "name": "python3"
  },
  "language_info": {
   "codemirror_mode": {
    "name": "ipython",
    "version": 3
   },
   "file_extension": ".py",
   "mimetype": "text/x-python",
   "name": "python",
   "nbconvert_exporter": "python",
   "pygments_lexer": "ipython3",
   "version": "3.8.10"
  },
  "latex_envs": {
   "LaTeX_envs_menu_present": true,
   "autoclose": false,
   "autocomplete": true,
   "bibliofile": "biblio.bib",
   "cite_by": "apalike",
   "current_citInitial": 1,
   "eqLabelWithNumbers": true,
   "eqNumInitial": 1,
   "hotkeys": {
    "equation": "Ctrl-E",
    "itemize": "Ctrl-I"
   },
   "labels_anchors": false,
   "latex_user_defs": false,
   "report_style_numbering": false,
   "user_envs_cfg": false
  }
 },
 "nbformat": 4,
 "nbformat_minor": 4
}
